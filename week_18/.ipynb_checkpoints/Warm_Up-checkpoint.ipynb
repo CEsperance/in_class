{
 "cells": [
  {
   "cell_type": "markdown",
   "id": "45f53b7f",
   "metadata": {},
   "source": [
    "### How do you evaluate the performance of your model when you’re trying to predict a continuous variable? Why?"
   ]
  },
  {
   "cell_type": "markdown",
   "id": "0210d771",
   "metadata": {},
   "source": [
    "R squared, Root mean squared error and Mean Absolute Error are used in regression to evaluate continuous variable\n",
    "It tells you how close the data is to the regression line and you want the data points to be as close to the regression line as possible.\n",
    "\n",
    "https://towardsdatascience.com/what-are-the-best-metrics-to-evaluate-your-regression-model-418ca481755b"
   ]
  },
  {
   "cell_type": "markdown",
   "id": "65d58bd2",
   "metadata": {},
   "source": [
    "### Take a numpy array [1,2,3,4,5,6] and multiply each value in that array by 3 as simply as possible"
   ]
  },
  {
   "cell_type": "code",
   "execution_count": 3,
   "id": "050cab49",
   "metadata": {},
   "outputs": [
    {
     "data": {
      "text/plain": [
       "array([ 3,  6,  9, 12, 15, 18])"
      ]
     },
     "execution_count": 3,
     "metadata": {},
     "output_type": "execute_result"
    }
   ],
   "source": [
    "import numpy as np\n",
    "\n",
    "#assign the array to x variable\n",
    "x = np.array([1,2,3,4,5,6])\n",
    "\n",
    "#multiply variable by 3\n",
    "x * 3"
   ]
  },
  {
   "cell_type": "code",
   "execution_count": 6,
   "id": "900bdb75",
   "metadata": {},
   "outputs": [
    {
     "data": {
      "text/plain": [
       "array([ 3,  6,  9, 12, 15, 18])"
      ]
     },
     "execution_count": 6,
     "metadata": {},
     "output_type": "execute_result"
    }
   ],
   "source": [
    "np.array([1,2,3,4,5,6]) * 3"
   ]
  },
  {
   "cell_type": "code",
   "execution_count": null,
   "id": "0990456f",
   "metadata": {},
   "outputs": [],
   "source": []
  }
 ],
 "metadata": {
  "kernelspec": {
   "display_name": "Python 3 (ipykernel)",
   "language": "python",
   "name": "python3"
  },
  "language_info": {
   "codemirror_mode": {
    "name": "ipython",
    "version": 3
   },
   "file_extension": ".py",
   "mimetype": "text/x-python",
   "name": "python",
   "nbconvert_exporter": "python",
   "pygments_lexer": "ipython3",
   "version": "3.9.6"
  }
 },
 "nbformat": 4,
 "nbformat_minor": 5
}

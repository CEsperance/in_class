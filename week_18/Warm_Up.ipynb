{
 "cells": [
  {
   "cell_type": "markdown",
   "id": "6ab60dfc",
   "metadata": {},
   "source": [
    "### How do you evaluate the performance of your model when you’re trying to predict a continuous variable? Why?"
   ]
  },
  {
   "cell_type": "markdown",
   "id": "271f46f2",
   "metadata": {},
   "source": [
    "R squared, Root mean squared error and Mean Absolute Error are used in regression to evaluate continuous variable\n",
    "It tells you how close the data is to the regression line and you want the data points to be as close to the regression line as possible.\n",
    "\n",
    "https://towardsdatascience.com/what-are-the-best-metrics-to-evaluate-your-regression-model-418ca481755b"
   ]
  },
  {
   "cell_type": "markdown",
   "id": "eb779691",
   "metadata": {},
   "source": [
    "### Take a numpy array [1,2,3,4,5,6] and multiply each value in that array by 3 as simply as possible"
   ]
  },
  {
   "cell_type": "code",
   "execution_count": 3,
   "id": "59fe1002",
   "metadata": {},
   "outputs": [
    {
     "data": {
      "text/plain": [
       "array([ 3,  6,  9, 12, 15, 18])"
      ]
     },
     "execution_count": 3,
     "metadata": {},
     "output_type": "execute_result"
    }
   ],
   "source": [
    "import numpy as np\n",
    "\n",
    "#assign the array to x variable\n",
    "x = np.array([1,2,3,4,5,6])\n",
    "\n",
    "#multiply variable by 3\n",
    "x * 3"
   ]
  },
  {
   "cell_type": "code",
   "execution_count": 6,
   "id": "48e21865",
   "metadata": {},
   "outputs": [
    {
     "data": {
      "text/plain": [
       "array([ 3,  6,  9, 12, 15, 18])"
      ]
     },
     "execution_count": 6,
     "metadata": {},
     "output_type": "execute_result"
    }
   ],
   "source": [
    "np.array([1,2,3,4,5,6]) * 3"
   ]
  },
  {
   "cell_type": "markdown",
   "id": "6ae585f4",
   "metadata": {},
   "source": [
    "1. Panic, hyper-focused\n",
    "2. Gasp\n",
    "3. Serve car, Push on the breaks\n",
    "4. Pray the deer doesn't hit my car and get in a bad accident"
   ]
  }
 ],
 "metadata": {
  "kernelspec": {
   "display_name": "Python 3 (ipykernel)",
   "language": "python",
   "name": "python3"
  },
  "language_info": {
   "codemirror_mode": {
    "name": "ipython",
    "version": 3
   },
   "file_extension": ".py",
   "mimetype": "text/x-python",
   "name": "python",
   "nbconvert_exporter": "python",
   "pygments_lexer": "ipython3",
   "version": "3.9.6"
  }
 },
 "nbformat": 4,
 "nbformat_minor": 5
}

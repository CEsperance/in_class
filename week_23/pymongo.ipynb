{
 "cells": [
  {
   "cell_type": "code",
   "execution_count": 3,
   "id": "2898cfa3",
   "metadata": {},
   "outputs": [],
   "source": [
    "import pymongo\n",
    "import datetime\n",
    "\n",
    "#connect to mongodb on default\n",
    "conn = 'mongodb://localhost:27017'\n",
    "client=pymongo.MongoClient(conn)\n",
    "\n",
    "#create database\n",
    "sdb = client.shows_db\n",
    "\n",
    "#create a collection in db\n",
    "tv_shows = sdb = sdb.tv_shows"
   ]
  },
  {
   "cell_type": "code",
   "execution_count": 4,
   "id": "b8b02888",
   "metadata": {},
   "outputs": [
    {
     "data": {
      "text/plain": [
       "<pymongo.results.InsertOneResult at 0x7f9701323bc0>"
      ]
     },
     "execution_count": 4,
     "metadata": {},
     "output_type": "execute_result"
    }
   ],
   "source": [
    "#CREATE\n",
    "post_data = {'name': 'My Life is Murder',\n",
    "            'season': 2,\n",
    "            'duration': '45 minutes',\n",
    "            'year': 2019,\n",
    "            'date_added': datetime.datetime.utcnow()}\n",
    "tv_shows.insert_one(post_data)"
   ]
  },
  {
   "cell_type": "code",
   "execution_count": 5,
   "id": "914a31b0",
   "metadata": {},
   "outputs": [
    {
     "name": "stdout",
     "output_type": "stream",
     "text": [
      "{'_id': ObjectId('622010280388fb07e37685aa'), 'name': 'My Life is Murder', 'season': 2, 'duration': '45 minutes', 'year': 2019, 'date_added': datetime.datetime(2022, 3, 3, 0, 47, 36, 494000)}\n"
     ]
    }
   ],
   "source": [
    "#READ\n",
    "\n",
    "results = tv_shows.find()\n",
    "for result in results:\n",
    "    print(result)"
   ]
  },
  {
   "cell_type": "code",
   "execution_count": null,
   "id": "01786068",
   "metadata": {},
   "outputs": [],
   "source": [
    "#DELETE\n",
    "tv_shows.delete_one({'name': 'Deamon Slayer'})"
   ]
  },
  {
   "cell_type": "code",
   "execution_count": null,
   "id": "1d7e6f53",
   "metadata": {},
   "outputs": [],
   "source": [
    "shows_name "
   ]
  }
 ],
 "metadata": {
  "kernelspec": {
   "display_name": "Python 3 (ipykernel)",
   "language": "python",
   "name": "python3"
  },
  "language_info": {
   "codemirror_mode": {
    "name": "ipython",
    "version": 3
   },
   "file_extension": ".py",
   "mimetype": "text/x-python",
   "name": "python",
   "nbconvert_exporter": "python",
   "pygments_lexer": "ipython3",
   "version": "3.9.6"
  }
 },
 "nbformat": 4,
 "nbformat_minor": 5
}

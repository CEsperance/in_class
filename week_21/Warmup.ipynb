{
 "cells": [
  {
   "cell_type": "code",
   "execution_count": 1,
   "source": [
    "import re\n",
    "from nltk.tokenize import RegexpTokenizer"
   ],
   "outputs": [],
   "metadata": {}
  },
  {
   "cell_type": "markdown",
   "source": [
    "How do you use regex (re library) to write some python code to select all words in a string that contain an apostrophe?\n",
    "\n",
    "Use the following string to test:"
   ],
   "metadata": {}
  },
  {
   "cell_type": "code",
   "execution_count": 32,
   "source": [
    "this_string = \" Y'all are amazing, and I've enjoyed teaching this class\"\n",
    "\n",
    "pattern1 = r\"\\w+[']\\w+\"\n",
    "hashtags = regexp_tokenize(this_string, pattern1)\n",
    "hashtags"
   ],
   "outputs": [
    {
     "output_type": "error",
     "ename": "NameError",
     "evalue": "name 'regexp_tokenize' is not defined",
     "traceback": [
      "\u001b[0;31m---------------------------------------------------------------------------\u001b[0m",
      "\u001b[0;31mNameError\u001b[0m                                 Traceback (most recent call last)",
      "\u001b[0;32m/var/folders/t2/8_yszszj5vz4xyg1fsy_1rlr0000gn/T/ipykernel_10184/2857977392.py\u001b[0m in \u001b[0;36m<module>\u001b[0;34m\u001b[0m\n\u001b[1;32m      2\u001b[0m \u001b[0;34m\u001b[0m\u001b[0m\n\u001b[1;32m      3\u001b[0m \u001b[0mpattern1\u001b[0m \u001b[0;34m=\u001b[0m \u001b[0;34mr\"\\w+[']\\w+\"\u001b[0m\u001b[0;34m\u001b[0m\u001b[0;34m\u001b[0m\u001b[0m\n\u001b[0;32m----> 4\u001b[0;31m \u001b[0mhashtags\u001b[0m \u001b[0;34m=\u001b[0m \u001b[0mregexp_tokenize\u001b[0m\u001b[0;34m(\u001b[0m\u001b[0mthis_string\u001b[0m\u001b[0;34m,\u001b[0m \u001b[0mpattern1\u001b[0m\u001b[0;34m)\u001b[0m\u001b[0;34m\u001b[0m\u001b[0;34m\u001b[0m\u001b[0m\n\u001b[0m\u001b[1;32m      5\u001b[0m \u001b[0mhashtags\u001b[0m\u001b[0;34m\u001b[0m\u001b[0;34m\u001b[0m\u001b[0m\n",
      "\u001b[0;31mNameError\u001b[0m: name 'regexp_tokenize' is not defined"
     ]
    }
   ],
   "metadata": {}
  },
  {
   "cell_type": "code",
   "execution_count": 2,
   "source": [
    "#check if a string contains a number\n",
    "target_str = \"My roll number is 25\"\n",
    "res = re.findall(r\"\\d\", target_str) #extract matching value bu creating regrex patterns \\d to match digits between 0 to 9\n",
    "res"
   ],
   "outputs": [
    {
     "output_type": "execute_result",
     "data": {
      "text/plain": [
       "['2', '5']"
      ]
     },
     "metadata": {},
     "execution_count": 2
    }
   ],
   "metadata": {}
  },
  {
   "cell_type": "code",
   "execution_count": 4,
   "source": [
    "#match any number inside the target string\n",
    "target_string = \"Emma is a basketball player who was born on June 17, 1993. She played 112 matches with scoring average 26.12 points per game. Her weight is 51 kg.\"\n",
    "result = re.findall(r\"\\d+\", target_string)\n",
    "result"
   ],
   "outputs": [
    {
     "output_type": "execute_result",
     "data": {
      "text/plain": [
       "['17', '1993', '112', '26', '12', '51']"
      ]
     },
     "metadata": {},
     "execution_count": 4
    }
   ],
   "metadata": {}
  },
  {
   "cell_type": "code",
   "execution_count": 5,
   "source": [
    "target_string = \"Emma is a basketball player who was born on June 17, 1993. She played 112 matches with a scoring average of 26.12 points per game. Her weight is 51 kg.\"\n",
    "\n",
    "# finditer() with regex pattern and target string\n",
    "# \\d{2} to match two consecutive digits \n",
    "result = re.finditer(r\"\\d{2}\", target_string)\n",
    "\n",
    "# print all match object\n",
    "for match_obj in result:\n",
    "    # print each re.Match object\n",
    "    print(match_obj)\n",
    "    \n",
    "    # extract each matching number\n",
    "    print(match_obj.group())"
   ],
   "outputs": [
    {
     "output_type": "stream",
     "name": "stdout",
     "text": [
      "<re.Match object; span=(49, 51), match='17'>\n",
      "17\n",
      "<re.Match object; span=(53, 55), match='19'>\n",
      "19\n",
      "<re.Match object; span=(55, 57), match='93'>\n",
      "93\n",
      "<re.Match object; span=(70, 72), match='11'>\n",
      "11\n",
      "<re.Match object; span=(108, 110), match='26'>\n",
      "26\n",
      "<re.Match object; span=(111, 113), match='12'>\n",
      "12\n",
      "<re.Match object; span=(145, 147), match='51'>\n",
      "51\n"
     ]
    }
   ],
   "metadata": {}
  }
 ],
 "metadata": {
  "kernelspec": {
   "name": "python3",
   "display_name": "Python 3.9.6 64-bit"
  },
  "language_info": {
   "codemirror_mode": {
    "name": "ipython",
    "version": 3
   },
   "file_extension": ".py",
   "mimetype": "text/x-python",
   "name": "python",
   "nbconvert_exporter": "python",
   "pygments_lexer": "ipython3",
   "version": "3.9.6"
  },
  "interpreter": {
   "hash": "aee8b7b246df8f9039afb4144a1f6fd8d2ca17a180786b69acc140d282b71a49"
  }
 },
 "nbformat": 4,
 "nbformat_minor": 5
}
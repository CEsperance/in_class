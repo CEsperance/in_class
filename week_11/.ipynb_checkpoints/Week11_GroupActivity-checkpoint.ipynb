{
 "cells": [
  {
   "cell_type": "markdown",
   "id": "c0cf0c47",
   "metadata": {},
   "source": [
    "# a. Import the data into a pandas dataframe"
   ]
  },
  {
   "cell_type": "code",
   "execution_count": 3,
   "id": "698d96b6",
   "metadata": {
    "scrolled": true
   },
   "outputs": [
    {
     "data": {
      "text/html": [
       "<div>\n",
       "<style scoped>\n",
       "    .dataframe tbody tr th:only-of-type {\n",
       "        vertical-align: middle;\n",
       "    }\n",
       "\n",
       "    .dataframe tbody tr th {\n",
       "        vertical-align: top;\n",
       "    }\n",
       "\n",
       "    .dataframe thead th {\n",
       "        text-align: right;\n",
       "    }\n",
       "</style>\n",
       "<table border=\"1\" class=\"dataframe\">\n",
       "  <thead>\n",
       "    <tr style=\"text-align: right;\">\n",
       "      <th></th>\n",
       "      <th>Taylor Swift: (United States)</th>\n",
       "      <th>Kim Kardashian: (United States)</th>\n",
       "    </tr>\n",
       "    <tr>\n",
       "      <th>Week</th>\n",
       "      <th></th>\n",
       "      <th></th>\n",
       "    </tr>\n",
       "  </thead>\n",
       "  <tbody>\n",
       "    <tr>\n",
       "      <th>2020-12-06</th>\n",
       "      <td>46</td>\n",
       "      <td>15</td>\n",
       "    </tr>\n",
       "    <tr>\n",
       "      <th>2020-12-13</th>\n",
       "      <td>44</td>\n",
       "      <td>14</td>\n",
       "    </tr>\n",
       "    <tr>\n",
       "      <th>2020-12-20</th>\n",
       "      <td>26</td>\n",
       "      <td>14</td>\n",
       "    </tr>\n",
       "    <tr>\n",
       "      <th>2020-12-27</th>\n",
       "      <td>23</td>\n",
       "      <td>13</td>\n",
       "    </tr>\n",
       "    <tr>\n",
       "      <th>2021-01-03</th>\n",
       "      <td>18</td>\n",
       "      <td>74</td>\n",
       "    </tr>\n",
       "  </tbody>\n",
       "</table>\n",
       "</div>"
      ],
      "text/plain": [
       "            Taylor Swift: (United States)  Kim Kardashian: (United States)\n",
       "Week                                                                      \n",
       "2020-12-06                             46                               15\n",
       "2020-12-13                             44                               14\n",
       "2020-12-20                             26                               14\n",
       "2020-12-27                             23                               13\n",
       "2021-01-03                             18                               74"
      ]
     },
     "execution_count": 3,
     "metadata": {},
     "output_type": "execute_result"
    }
   ],
   "source": [
    "## Use this link to help with interpreting the models : https://bookdown.org/JakeEsprabens/431-Time-Series/modelling-time-series.html\n",
    "\n",
    "import pandas as pd\n",
    "import matplotlib.pyplot as plt\n",
    "import numpy as np\n",
    "import os\n",
    "\n",
    "celeb = pd.read_csv(\"multiTimeline (1).csv\", parse_dates = True, index_col = 'Week')\n",
    "celeb.head()"
   ]
  },
  {
   "cell_type": "code",
   "execution_count": 4,
   "id": "d7a7b6f9",
   "metadata": {},
   "outputs": [],
   "source": [
    "import warnings\n",
    "warnings.filterwarnings('ignore')"
   ]
  },
  {
   "cell_type": "code",
   "execution_count": 5,
   "id": "eca597a9",
   "metadata": {},
   "outputs": [
    {
     "data": {
      "text/plain": [
       "Index(['Taylor Swift: (United States)', 'Kim Kardashian: (United States)'], dtype='object')"
      ]
     },
     "execution_count": 5,
     "metadata": {},
     "output_type": "execute_result"
    }
   ],
   "source": [
    "celeb.columns"
   ]
  },
  {
   "cell_type": "code",
   "execution_count": 6,
   "id": "306dfaf2",
   "metadata": {},
   "outputs": [
    {
     "data": {
      "text/plain": [
       "[<matplotlib.lines.Line2D at 0x7fdaa9cb5ca0>]"
      ]
     },
     "execution_count": 6,
     "metadata": {},
     "output_type": "execute_result"
    },
    {
     "data": {
      "image/png": "[encoded data removed]",
      "text/plain": [
       "<Figure size 432x288 with 1 Axes>"
      ]
     },
     "metadata": {
      "needs_background": "light"
     },
     "output_type": "display_data"
    }
   ],
   "source": [
    "plt.plot(celeb.index, celeb['Kim Kardashian: (United States)'])\n"
   ]
  },
  {
   "cell_type": "code",
   "execution_count": 8,
   "id": "38f96989",
   "metadata": {},
   "outputs": [
    {
     "data": {
      "text/plain": [
       "(-6.3745451969162215,\n",
       " 2.3009979422220873e-08,\n",
       " 0,\n",
       " 51,\n",
       " {'1%': -3.5656240522121956,\n",
       "  '5%': -2.920142229157715,\n",
       "  '10%': -2.598014675124952},\n",
       " 275.32777891364583)"
      ]
     },
     "execution_count": 8,
     "metadata": {},
     "output_type": "execute_result"
    }
   ],
   "source": [
    "# Applying adfuller test to see if plot is stationary\n",
    "from statsmodels.tsa.stattools import adfuller\n",
    "Kim = adfuller(celeb['Kim Kardashian: (United States)'])\n",
    "Kim\n",
    "\n",
    "# 0th element = test stat. The more negative, the more likely it's stationary\n",
    "# 1st element is p-value: the p-value is larger than .05 so reject the null hypothesis that data is non-stationary\n",
    "# the last value is a dictionary which stores the critical values of the test statistic, which equate to different p-values.\n",
    "# - for example, if we want a p-value of 0.05 or below, the test statistic needs to be lower than -2.92."
   ]
  },
  {
   "cell_type": "code",
   "execution_count": 9,
   "id": "2d4d48a1",
   "metadata": {},
   "outputs": [
    {
     "data": {
      "text/plain": [
       "<AxesSubplot:xlabel='Week'>"
      ]
     },
     "execution_count": 9,
     "metadata": {},
     "output_type": "execute_result"
    },
    {
     "data": {
      "image/png": "[encoded data removed]",
      "text/plain": [
       "<Figure size 432x288 with 1 Axes>"
      ]
     },
     "metadata": {
      "needs_background": "light"
     },
     "output_type": "display_data"
    }
   ],
   "source": [
    "#transform a stationary process\n",
    "\n",
    "celeb['Kim'] = celeb['Kim Kardashian: (United States)'].pct_change()\n",
    "celeb['Kim'].plot()\n",
    "# this data is stationary"
   ]
  },
  {
   "cell_type": "markdown",
   "id": "d992d094",
   "metadata": {},
   "source": [
    "# b. Decide whether ARMA, ARIMA, or SARIMA makes more sense for the dataset\n",
    "\n",
    "ARIMA makes sense for this dataset. Even though based on the afuller test results, the data is already stationary, there are some changes in the plot towards the end of the year."
   ]
  },
  {
   "cell_type": "markdown",
   "id": "57815f08",
   "metadata": {},
   "source": [
    "# c. Run either an ARMA, ARIMA, or SARIMA on it"
   ]
  },
  {
   "cell_type": "code",
   "execution_count": 10,
   "id": "2cb8f146",
   "metadata": {},
   "outputs": [],
   "source": [
    "celeb=celeb.dropna()"
   ]
  },
  {
   "cell_type": "code",
   "execution_count": 18,
   "id": "a8bd4725",
   "metadata": {},
   "outputs": [
    {
     "data": {
      "image/png": "[encoded data removed]",
      "text/plain": [
       "<Figure size 432x288 with 1 Axes>"
      ]
     },
     "execution_count": 18,
     "metadata": {},
     "output_type": "execute_result"
    },
    {
     "data": {
      "image/png": "[encoded data removed]",
      "text/plain": [
       "<Figure size 432x288 with 1 Axes>"
      ]
     },
     "metadata": {
      "needs_background": "light"
     },
     "output_type": "display_data"
    }
   ],
   "source": [
    "from statsmodels.graphics.tsaplots import plot_acf, plot_pacf\n",
    "plot_acf(celeb[['Kim']], lags = 10, missing='drop', alpha = 0.10)\n",
    "\n",
    "# The x-axis represents the lags and shows the correlation between a value on a certain day and one day removed, two day removed, etc."
   ]
  },
  {
   "cell_type": "code",
   "execution_count": 19,
   "id": "ee606cf6",
   "metadata": {},
   "outputs": [
    {
     "data": {
      "image/png": "[encoded data removed]",
      "text/plain": [
       "<Figure size 432x288 with 1 Axes>"
      ]
     },
     "execution_count": 19,
     "metadata": {},
     "output_type": "execute_result"
    },
    {
     "data": {
      "image/png": "[encoded data removed]",
      "text/plain": [
       "<Figure size 432x288 with 1 Axes>"
      ]
     },
     "metadata": {
      "needs_background": "light"
     },
     "output_type": "display_data"
    }
   ],
   "source": [
    "from statsmodels.graphics.tsaplots import plot_acf, plot_pacf\n",
    "plot_pacf(celeb[['Kim']], zero = False, lags = 10, alpha = 0.10)\n",
    "\n",
    "#Keep this: zero equals false removes the zero element since it's not relevant\n"
   ]
  },
  {
   "cell_type": "markdown",
   "id": "5e98780f",
   "metadata": {},
   "source": [
    "## Arma"
   ]
  },
  {
   "cell_type": "code",
   "execution_count": 16,
   "id": "f9863713",
   "metadata": {},
   "outputs": [],
   "source": [
    "from statsmodels.tsa.arima.model import ARIMA\n",
    "# using ARIMA for ARMA since this is an updated version of\n",
    "#from statsmodels.tsa.arima.model.ARIMA\n",
    "\n",
    "#first value for order indicates AR lags\n",
    "#second value for order indicated MA lags\n",
    "\n",
    "# previous code used: model = ARIMA(df['Taylor Swift: (United States)'], order=(1,0,1))\n",
    "model = ARIMA(celeb['Kim'], order=(1,0,1)) # used 1,0,1 because there is one point outside of the confidence interval\n",
    "results = model.fit()"
   ]
  },
  {
   "cell_type": "code",
   "execution_count": 122,
   "id": "d6838b1b",
   "metadata": {},
   "outputs": [
    {
     "data": {
      "text/html": [
       "<div>\n",
       "<style scoped>\n",
       "    .dataframe tbody tr th:only-of-type {\n",
       "        vertical-align: middle;\n",
       "    }\n",
       "\n",
       "    .dataframe tbody tr th {\n",
       "        vertical-align: top;\n",
       "    }\n",
       "\n",
       "    .dataframe thead th {\n",
       "        text-align: right;\n",
       "    }\n",
       "</style>\n",
       "<table border=\"1\" class=\"dataframe\">\n",
       "  <thead>\n",
       "    <tr style=\"text-align: right;\">\n",
       "      <th></th>\n",
       "      <th>predicted_mean</th>\n",
       "    </tr>\n",
       "  </thead>\n",
       "  <tbody>\n",
       "    <tr>\n",
       "      <th>2021-12-05</th>\n",
       "      <td>0.254276</td>\n",
       "    </tr>\n",
       "    <tr>\n",
       "      <th>2021-12-12</th>\n",
       "      <td>0.174429</td>\n",
       "    </tr>\n",
       "    <tr>\n",
       "      <th>2021-12-19</th>\n",
       "      <td>0.158804</td>\n",
       "    </tr>\n",
       "    <tr>\n",
       "      <th>2021-12-26</th>\n",
       "      <td>0.155747</td>\n",
       "    </tr>\n",
       "    <tr>\n",
       "      <th>2022-01-02</th>\n",
       "      <td>0.155148</td>\n",
       "    </tr>\n",
       "  </tbody>\n",
       "</table>\n",
       "</div>"
      ],
      "text/plain": [
       "            predicted_mean\n",
       "2021-12-05        0.254276\n",
       "2021-12-12        0.174429\n",
       "2021-12-19        0.158804\n",
       "2021-12-26        0.155747\n",
       "2022-01-02        0.155148"
      ]
     },
     "execution_count": 122,
     "metadata": {},
     "output_type": "execute_result"
    }
   ],
   "source": [
    "#results.summary()\n",
    "results_df = pd.DataFrame(results.forecast(steps=10))\n",
    "results_df.head()\n",
    "\n",
    "# these are the predictions overtime and they look like they're decreasing"
   ]
  },
  {
   "cell_type": "code",
   "execution_count": 123,
   "id": "b06fcfde",
   "metadata": {},
   "outputs": [
    {
     "data": {
      "text/plain": [
       "<AxesSubplot:title={'center':'Interest in Kim Kardashian 10 week Forecast'}>"
      ]
     },
     "execution_count": 123,
     "metadata": {},
     "output_type": "execute_result"
    },
    {
     "data": {
      "image/png": "[encoded data removed]",
      "text/plain": [
       "<Figure size 432x288 with 1 Axes>"
      ]
     },
     "metadata": {
      "needs_background": "light"
     },
     "output_type": "display_data"
    }
   ],
   "source": [
    "results_df.plot(title = 'Interest in Kim Kardashian 10 week Forecast')"
   ]
  },
  {
   "cell_type": "code",
   "execution_count": 17,
   "id": "fdcbb011",
   "metadata": {},
   "outputs": [
    {
     "data": {
      "text/html": [
       "<table class=\"simpletable\">\n",
       "<caption>SARIMAX Results</caption>\n",
       "<tr>\n",
       "  <th>Dep. Variable:</th>          <td>Kim</td>       <th>  No. Observations:  </th>   <td>51</td>   \n",
       "</tr>\n",
       "<tr>\n",
       "  <th>Model:</th>            <td>ARIMA(1, 0, 1)</td>  <th>  Log Likelihood     </th> <td>-59.606</td>\n",
       "</tr>\n",
       "<tr>\n",
       "  <th>Date:</th>            <td>Fri, 03 Dec 2021</td> <th>  AIC                </th> <td>127.213</td>\n",
       "</tr>\n",
       "<tr>\n",
       "  <th>Time:</th>                <td>12:23:09</td>     <th>  BIC                </th> <td>134.940</td>\n",
       "</tr>\n",
       "<tr>\n",
       "  <th>Sample:</th>             <td>12-13-2020</td>    <th>  HQIC               </th> <td>130.166</td>\n",
       "</tr>\n",
       "<tr>\n",
       "  <th></th>                   <td>- 11-28-2021</td>   <th>                     </th>    <td> </td>   \n",
       "</tr>\n",
       "<tr>\n",
       "  <th>Covariance Type:</th>        <td>opg</td>       <th>                     </th>    <td> </td>   \n",
       "</tr>\n",
       "</table>\n",
       "<table class=\"simpletable\">\n",
       "<tr>\n",
       "     <td></td>       <th>coef</th>     <th>std err</th>      <th>z</th>      <th>P>|z|</th>  <th>[0.025</th>    <th>0.975]</th>  \n",
       "</tr>\n",
       "<tr>\n",
       "  <th>const</th>  <td>    0.1550</td> <td>    0.152</td> <td>    1.019</td> <td> 0.308</td> <td>   -0.143</td> <td>    0.453</td>\n",
       "</tr>\n",
       "<tr>\n",
       "  <th>ar.L1</th>  <td>    0.1957</td> <td>    1.110</td> <td>    0.176</td> <td> 0.860</td> <td>   -1.981</td> <td>    2.372</td>\n",
       "</tr>\n",
       "<tr>\n",
       "  <th>ma.L1</th>  <td>   -0.4980</td> <td>    1.113</td> <td>   -0.447</td> <td> 0.655</td> <td>   -2.679</td> <td>    1.683</td>\n",
       "</tr>\n",
       "<tr>\n",
       "  <th>sigma2</th> <td>    0.6049</td> <td>    0.096</td> <td>    6.330</td> <td> 0.000</td> <td>    0.418</td> <td>    0.792</td>\n",
       "</tr>\n",
       "</table>\n",
       "<table class=\"simpletable\">\n",
       "<tr>\n",
       "  <th>Ljung-Box (L1) (Q):</th>     <td>0.00</td> <th>  Jarque-Bera (JB):  </th> <td>874.03</td>\n",
       "</tr>\n",
       "<tr>\n",
       "  <th>Prob(Q):</th>                <td>0.99</td> <th>  Prob(JB):          </th>  <td>0.00</td> \n",
       "</tr>\n",
       "<tr>\n",
       "  <th>Heteroskedasticity (H):</th> <td>0.39</td> <th>  Skew:              </th>  <td>4.04</td> \n",
       "</tr>\n",
       "<tr>\n",
       "  <th>Prob(H) (two-sided):</th>    <td>0.06</td> <th>  Kurtosis:          </th>  <td>21.60</td>\n",
       "</tr>\n",
       "</table><br/><br/>Warnings:<br/>[1] Covariance matrix calculated using the outer product of gradients (complex-step)."
      ],
      "text/plain": [
       "<class 'statsmodels.iolib.summary.Summary'>\n",
       "\"\"\"\n",
       "                               SARIMAX Results                                \n",
       "==============================================================================\n",
       "Dep. Variable:                    Kim   No. Observations:                   51\n",
       "Model:                 ARIMA(1, 0, 1)   Log Likelihood                 -59.606\n",
       "Date:                Fri, 03 Dec 2021   AIC                            127.213\n",
       "Time:                        12:23:09   BIC                            134.940\n",
       "Sample:                    12-13-2020   HQIC                           130.166\n",
       "                         - 11-28-2021                                         \n",
       "Covariance Type:                  opg                                         \n",
       "==============================================================================\n",
       "                 coef    std err          z      P>|z|      [0.025      0.975]\n",
       "------------------------------------------------------------------------------\n",
       "const          0.1550      0.152      1.019      0.308      -0.143       0.453\n",
       "ar.L1          0.1957      1.110      0.176      0.860      -1.981       2.372\n",
       "ma.L1         -0.4980      1.113     -0.447      0.655      -2.679       1.683\n",
       "sigma2         0.6049      0.096      6.330      0.000       0.418       0.792\n",
       "===================================================================================\n",
       "Ljung-Box (L1) (Q):                   0.00   Jarque-Bera (JB):               874.03\n",
       "Prob(Q):                              0.99   Prob(JB):                         0.00\n",
       "Heteroskedasticity (H):               0.39   Skew:                             4.04\n",
       "Prob(H) (two-sided):                  0.06   Kurtosis:                        21.60\n",
       "===================================================================================\n",
       "\n",
       "Warnings:\n",
       "[1] Covariance matrix calculated using the outer product of gradients (complex-step).\n",
       "\"\"\""
      ]
     },
     "execution_count": 17,
     "metadata": {},
     "output_type": "execute_result"
    }
   ],
   "source": [
    "results.summary()\n",
    "\n",
    "# p-value is greater than 0.05 so it's not a good fit"
   ]
  },
  {
   "cell_type": "markdown",
   "id": "293f75da",
   "metadata": {},
   "source": [
    "### ARIMA"
   ]
  },
  {
   "cell_type": "code",
   "execution_count": 24,
   "id": "e32e59ae",
   "metadata": {},
   "outputs": [
    {
     "data": {
      "text/html": [
       "<table class=\"simpletable\">\n",
       "<caption>SARIMAX Results</caption>\n",
       "<tr>\n",
       "  <th>Dep. Variable:</th>          <td>Kim</td>       <th>  No. Observations:  </th>   <td>51</td>   \n",
       "</tr>\n",
       "<tr>\n",
       "  <th>Model:</th>            <td>ARIMA(1, 1, 2)</td>  <th>  Log Likelihood     </th> <td>-59.722</td>\n",
       "</tr>\n",
       "<tr>\n",
       "  <th>Date:</th>            <td>Fri, 03 Dec 2021</td> <th>  AIC                </th> <td>127.444</td>\n",
       "</tr>\n",
       "<tr>\n",
       "  <th>Time:</th>                <td>13:13:03</td>     <th>  BIC                </th> <td>135.092</td>\n",
       "</tr>\n",
       "<tr>\n",
       "  <th>Sample:</th>             <td>12-13-2020</td>    <th>  HQIC               </th> <td>130.356</td>\n",
       "</tr>\n",
       "<tr>\n",
       "  <th></th>                   <td>- 11-28-2021</td>   <th>                     </th>    <td> </td>   \n",
       "</tr>\n",
       "<tr>\n",
       "  <th>Covariance Type:</th>        <td>opg</td>       <th>                     </th>    <td> </td>   \n",
       "</tr>\n",
       "</table>\n",
       "<table class=\"simpletable\">\n",
       "<tr>\n",
       "     <td></td>       <th>coef</th>     <th>std err</th>      <th>z</th>      <th>P>|z|</th>  <th>[0.025</th>    <th>0.975]</th>  \n",
       "</tr>\n",
       "<tr>\n",
       "  <th>ar.L1</th>  <td>    0.4052</td> <td>    0.197</td> <td>    2.058</td> <td> 0.040</td> <td>    0.019</td> <td>    0.791</td>\n",
       "</tr>\n",
       "<tr>\n",
       "  <th>ma.L1</th>  <td>   -1.8243</td> <td>    7.124</td> <td>   -0.256</td> <td> 0.798</td> <td>  -15.787</td> <td>   12.138</td>\n",
       "</tr>\n",
       "<tr>\n",
       "  <th>ma.L2</th>  <td>    0.9979</td> <td>    7.813</td> <td>    0.128</td> <td> 0.898</td> <td>  -14.316</td> <td>   16.311</td>\n",
       "</tr>\n",
       "<tr>\n",
       "  <th>sigma2</th> <td>    0.5575</td> <td>    4.309</td> <td>    0.129</td> <td> 0.897</td> <td>   -7.888</td> <td>    9.003</td>\n",
       "</tr>\n",
       "</table>\n",
       "<table class=\"simpletable\">\n",
       "<tr>\n",
       "  <th>Ljung-Box (L1) (Q):</th>     <td>0.37</td> <th>  Jarque-Bera (JB):  </th> <td>276.02</td>\n",
       "</tr>\n",
       "<tr>\n",
       "  <th>Prob(Q):</th>                <td>0.54</td> <th>  Prob(JB):          </th>  <td>0.00</td> \n",
       "</tr>\n",
       "<tr>\n",
       "  <th>Heteroskedasticity (H):</th> <td>0.40</td> <th>  Skew:              </th>  <td>2.47</td> \n",
       "</tr>\n",
       "<tr>\n",
       "  <th>Prob(H) (two-sided):</th>    <td>0.06</td> <th>  Kurtosis:          </th>  <td>13.40</td>\n",
       "</tr>\n",
       "</table><br/><br/>Warnings:<br/>[1] Covariance matrix calculated using the outer product of gradients (complex-step)."
      ],
      "text/plain": [
       "<class 'statsmodels.iolib.summary.Summary'>\n",
       "\"\"\"\n",
       "                               SARIMAX Results                                \n",
       "==============================================================================\n",
       "Dep. Variable:                    Kim   No. Observations:                   51\n",
       "Model:                 ARIMA(1, 1, 2)   Log Likelihood                 -59.722\n",
       "Date:                Fri, 03 Dec 2021   AIC                            127.444\n",
       "Time:                        13:13:03   BIC                            135.092\n",
       "Sample:                    12-13-2020   HQIC                           130.356\n",
       "                         - 11-28-2021                                         \n",
       "Covariance Type:                  opg                                         \n",
       "==============================================================================\n",
       "                 coef    std err          z      P>|z|      [0.025      0.975]\n",
       "------------------------------------------------------------------------------\n",
       "ar.L1          0.4052      0.197      2.058      0.040       0.019       0.791\n",
       "ma.L1         -1.8243      7.124     -0.256      0.798     -15.787      12.138\n",
       "ma.L2          0.9979      7.813      0.128      0.898     -14.316      16.311\n",
       "sigma2         0.5575      4.309      0.129      0.897      -7.888       9.003\n",
       "===================================================================================\n",
       "Ljung-Box (L1) (Q):                   0.37   Jarque-Bera (JB):               276.02\n",
       "Prob(Q):                              0.54   Prob(JB):                         0.00\n",
       "Heteroskedasticity (H):               0.40   Skew:                             2.47\n",
       "Prob(H) (two-sided):                  0.06   Kurtosis:                        13.40\n",
       "===================================================================================\n",
       "\n",
       "Warnings:\n",
       "[1] Covariance matrix calculated using the outer product of gradients (complex-step).\n",
       "\"\"\""
      ]
     },
     "execution_count": 24,
     "metadata": {},
     "output_type": "execute_result"
    }
   ],
   "source": [
    "from statsmodels.tsa.arima.model import ARIMA\n",
    "model = ARIMA(celeb['Kim'],order=(1,1,2))\n",
    "results = model.fit()\n",
    "results.summary()"
   ]
  },
  {
   "cell_type": "markdown",
   "id": "dc7c592c",
   "metadata": {},
   "source": [
    "SARIMA (Seasonal Autoregressive Integrated Moving Average Model)\n",
    "-this model is an extension of ARIMA model. The difference is that it adds a seasonal component"
   ]
  },
  {
   "cell_type": "code",
   "execution_count": 133,
   "id": "a83ac79e",
   "metadata": {},
   "outputs": [
    {
     "name": "stdout",
     "output_type": "stream",
     "text": [
      "RUNNING THE L-BFGS-B CODE\n",
      "\n",
      "           * * *\n",
      "\n",
      "Machine precision = 2.220D-16\n",
      " N =            8     M =           10\n",
      "\n",
      "At X0         0 variables are exactly at the bounds\n",
      "\n",
      "At iterate    0    f=  8.25871D-01    |proj g|=  6.09043D-01\n",
      "\n",
      "At iterate    5    f=  6.68651D-01    |proj g|=  1.20980D-01\n",
      "\n",
      "At iterate   10    f=  5.78521D-01    |proj g|=  7.35332D-02\n",
      "\n",
      "At iterate   15    f=  5.59350D-01    |proj g|=  2.38606D-02\n",
      "\n",
      "At iterate   20    f=  5.53028D-01    |proj g|=  1.62121D-02\n",
      "\n",
      "At iterate   25    f=  5.52624D-01    |proj g|=  2.39962D-04\n",
      "\n",
      "           * * *\n",
      "\n",
      "Tit   = total number of iterations\n",
      "Tnf   = total number of function evaluations\n",
      "Tnint = total number of segments explored during Cauchy searches\n",
      "Skip  = number of BFGS updates skipped\n",
      "Nact  = number of active bounds at final generalized Cauchy point\n",
      "Projg = norm of the final projected gradient\n",
      "F     = final function value\n",
      "\n",
      "           * * *\n",
      "\n",
      "   N    Tit     Tnf  Tnint  Skip  Nact     Projg        F\n",
      "    8     29     35      1     0     0   2.224D-05   5.526D-01\n",
      "  F =  0.55262436941005466     \n",
      "\n",
      "CONVERGENCE: REL_REDUCTION_OF_F_<=_FACTR*EPSMCH             \n"
     ]
    },
    {
     "name": "stderr",
     "output_type": "stream",
     "text": [
      " This problem is unconstrained.\n"
     ]
    },
    {
     "data": {
      "text/html": [
       "<table class=\"simpletable\">\n",
       "<caption>SARIMAX Results</caption>\n",
       "<tr>\n",
       "  <th>Dep. Variable:</th>          <td>Kim</td>       <th>  No. Observations:  </th>   <td>51</td>   \n",
       "</tr>\n",
       "<tr>\n",
       "  <th>Model:</th>           <td>SARIMAX(2, 1, 5)</td> <th>  Log Likelihood     </th> <td>-28.184</td>\n",
       "</tr>\n",
       "<tr>\n",
       "  <th>Date:</th>            <td>Fri, 03 Dec 2021</td> <th>  AIC                </th> <td>72.368</td> \n",
       "</tr>\n",
       "<tr>\n",
       "  <th>Time:</th>                <td>11:49:56</td>     <th>  BIC                </th> <td>86.641</td> \n",
       "</tr>\n",
       "<tr>\n",
       "  <th>Sample:</th>             <td>12-13-2020</td>    <th>  HQIC               </th> <td>77.661</td> \n",
       "</tr>\n",
       "<tr>\n",
       "  <th></th>                   <td>- 11-28-2021</td>   <th>                     </th>    <td> </td>   \n",
       "</tr>\n",
       "<tr>\n",
       "  <th>Covariance Type:</th>        <td>opg</td>       <th>                     </th>    <td> </td>   \n",
       "</tr>\n",
       "</table>\n",
       "<table class=\"simpletable\">\n",
       "<tr>\n",
       "     <td></td>       <th>coef</th>     <th>std err</th>      <th>z</th>      <th>P>|z|</th>  <th>[0.025</th>    <th>0.975]</th>  \n",
       "</tr>\n",
       "<tr>\n",
       "  <th>ar.L1</th>  <td>   -0.6308</td> <td>    0.418</td> <td>   -1.508</td> <td> 0.131</td> <td>   -1.450</td> <td>    0.189</td>\n",
       "</tr>\n",
       "<tr>\n",
       "  <th>ar.L2</th>  <td>   -0.4226</td> <td>    0.221</td> <td>   -1.916</td> <td> 0.055</td> <td>   -0.855</td> <td>    0.010</td>\n",
       "</tr>\n",
       "<tr>\n",
       "  <th>ma.L1</th>  <td>   -0.8338</td> <td>    0.484</td> <td>   -1.722</td> <td> 0.085</td> <td>   -1.783</td> <td>    0.115</td>\n",
       "</tr>\n",
       "<tr>\n",
       "  <th>ma.L2</th>  <td>   -0.0400</td> <td>    0.488</td> <td>   -0.082</td> <td> 0.935</td> <td>   -0.997</td> <td>    0.917</td>\n",
       "</tr>\n",
       "<tr>\n",
       "  <th>ma.L3</th>  <td>   -0.1326</td> <td>    0.295</td> <td>   -0.450</td> <td> 0.653</td> <td>   -0.711</td> <td>    0.445</td>\n",
       "</tr>\n",
       "<tr>\n",
       "  <th>ma.L4</th>  <td>    0.3777</td> <td>    0.209</td> <td>    1.804</td> <td> 0.071</td> <td>   -0.033</td> <td>    0.788</td>\n",
       "</tr>\n",
       "<tr>\n",
       "  <th>ma.L5</th>  <td>   -0.1216</td> <td>    0.157</td> <td>   -0.774</td> <td> 0.439</td> <td>   -0.430</td> <td>    0.186</td>\n",
       "</tr>\n",
       "<tr>\n",
       "  <th>sigma2</th> <td>    0.2068</td> <td>    0.027</td> <td>    7.645</td> <td> 0.000</td> <td>    0.154</td> <td>    0.260</td>\n",
       "</tr>\n",
       "</table>\n",
       "<table class=\"simpletable\">\n",
       "<tr>\n",
       "  <th>Ljung-Box (L1) (Q):</th>     <td>0.08</td> <th>  Jarque-Bera (JB):  </th> <td>129.03</td>\n",
       "</tr>\n",
       "<tr>\n",
       "  <th>Prob(Q):</th>                <td>0.78</td> <th>  Prob(JB):          </th>  <td>0.00</td> \n",
       "</tr>\n",
       "<tr>\n",
       "  <th>Heteroskedasticity (H):</th> <td>8.68</td> <th>  Skew:              </th>  <td>2.07</td> \n",
       "</tr>\n",
       "<tr>\n",
       "  <th>Prob(H) (two-sided):</th>    <td>0.00</td> <th>  Kurtosis:          </th>  <td>10.30</td>\n",
       "</tr>\n",
       "</table><br/><br/>Warnings:<br/>[1] Covariance matrix calculated using the outer product of gradients (complex-step)."
      ],
      "text/plain": [
       "<class 'statsmodels.iolib.summary.Summary'>\n",
       "\"\"\"\n",
       "                               SARIMAX Results                                \n",
       "==============================================================================\n",
       "Dep. Variable:                    Kim   No. Observations:                   51\n",
       "Model:               SARIMAX(2, 1, 5)   Log Likelihood                 -28.184\n",
       "Date:                Fri, 03 Dec 2021   AIC                             72.368\n",
       "Time:                        11:49:56   BIC                             86.641\n",
       "Sample:                    12-13-2020   HQIC                            77.661\n",
       "                         - 11-28-2021                                         \n",
       "Covariance Type:                  opg                                         \n",
       "==============================================================================\n",
       "                 coef    std err          z      P>|z|      [0.025      0.975]\n",
       "------------------------------------------------------------------------------\n",
       "ar.L1         -0.6308      0.418     -1.508      0.131      -1.450       0.189\n",
       "ar.L2         -0.4226      0.221     -1.916      0.055      -0.855       0.010\n",
       "ma.L1         -0.8338      0.484     -1.722      0.085      -1.783       0.115\n",
       "ma.L2         -0.0400      0.488     -0.082      0.935      -0.997       0.917\n",
       "ma.L3         -0.1326      0.295     -0.450      0.653      -0.711       0.445\n",
       "ma.L4          0.3777      0.209      1.804      0.071      -0.033       0.788\n",
       "ma.L5         -0.1216      0.157     -0.774      0.439      -0.430       0.186\n",
       "sigma2         0.2068      0.027      7.645      0.000       0.154       0.260\n",
       "===================================================================================\n",
       "Ljung-Box (L1) (Q):                   0.08   Jarque-Bera (JB):               129.03\n",
       "Prob(Q):                              0.78   Prob(JB):                         0.00\n",
       "Heteroskedasticity (H):               8.68   Skew:                             2.07\n",
       "Prob(H) (two-sided):                  0.00   Kurtosis:                        10.30\n",
       "===================================================================================\n",
       "\n",
       "Warnings:\n",
       "[1] Covariance matrix calculated using the outer product of gradients (complex-step).\n",
       "\"\"\""
      ]
     },
     "execution_count": 133,
     "metadata": {},
     "output_type": "execute_result"
    }
   ],
   "source": [
    "# https://www.wisdomgeek.com/development/machine-learning/sarima-forecast-seasonal-data-using-python/\n",
    "\n",
    "#from statsmodels.tsa.statespace.sarimax import SARIMAX\n",
    "#model = SARIMAX(celeb['Taylor'],order=(0,0,0))\n",
    "#results = model.fit()\n",
    "#results.summary()\n",
    "import statsmodels.api as sm\n",
    "model = sm.tsa.statespace.SARIMAX(celeb['Kim'], order =(2,1,5), seasonal_order = (0,0,0,52), enforce_stationarity=False, enforce_invertibility=False)\n",
    "results = model.fit()\n",
    "results.summary()"
   ]
  },
  {
   "cell_type": "markdown",
   "id": "22135911",
   "metadata": {},
   "source": [
    "# d. Explain the results"
   ]
  },
  {
   "cell_type": "markdown",
   "id": "5c333a85",
   "metadata": {},
   "source": [
    "This dataset focuses on interest levels for Taylor Swift and Kim Kardashian over a 12 month space; timeframe is measured in weeks. I focused on Kim Kardashian. Start date for measurement is: Dec. 6, 2020.\n",
    "\n",
    "With confidence interval set as 95%, there were no lags outside of the the confidence interval in both my ACF and PACF, which means anything inside the blue bar is not statistically significant. The confidence interval was changed to 90% to check if there was any significance; this resulted in 1 spike outside the confidence interval at 1.\n",
    "\n",
    "ARIMA model: The p-value is less than 0.10 so is a good measure of the data. The weekly interest levels on Kim Kardashian decreases over time. "
   ]
  },
  {
   "cell_type": "markdown",
   "id": "75767038",
   "metadata": {},
   "source": [
    "# e. Discuss your findings with your group and explain what trend someone else chose and why they chose the model they did\n",
    "\n",
    "My group member chose SARIMA model for their American Football data since the AIC was lower. It made sense since football isn't played year round so the interest would be seasonal. A smaller AIC means the model fits the time series better. Since SARIMA had the lowest AIC, it is better for forecasting."
   ]
  },
  {
   "cell_type": "markdown",
   "id": "a0ee0d2e",
   "metadata": {},
   "source": [
    "# 2. What is a fourier transform? Perform one on y = np.cos(x/2), and both show (with code) and explain the key elements\n",
    "\n",
    "Fourier transform is a mathmatical function that takes a time-based function or waveform, such as soundwaves(a signal from time domain), measures every possible cycle, and returns the overall \"cycle recipe\" (the amplitude, offset, & rotation speed for every cycle that was found). It gives an alternate way to look at waveforms by breaking it down."
   ]
  },
  {
   "cell_type": "code",
   "execution_count": 25,
   "id": "81814dba",
   "metadata": {},
   "outputs": [
    {
     "data": {
      "image/png": "[encoded data removed]",
      "text/plain": [
       "<Figure size 432x288 with 1 Axes>"
      ]
     },
     "metadata": {
      "needs_background": "light"
     },
     "output_type": "display_data"
    }
   ],
   "source": [
    "from scipy import signal\n",
    "\n",
    "x = np.arange(1,100,1)\n",
    "y = np.cos(x/2)\n",
    "plt.plot(x,y)\n",
    "plt.xlabel('Time')\n",
    "plt.ylabel('Intensity')\n",
    "plt.show()"
   ]
  },
  {
   "cell_type": "code",
   "execution_count": 28,
   "id": "1d0ae7ff",
   "metadata": {},
   "outputs": [
    {
     "data": {
      "image/png": "[encoded data removed]",
      "text/plain": [
       "<Figure size 432x288 with 1 Axes>"
      ]
     },
     "metadata": {
      "needs_background": "light"
     },
     "output_type": "display_data"
    }
   ],
   "source": [
    "#power spectral density\n",
    "psd = np.abs(np.fft.rfft(y))\n",
    "freqs = np.fft.rfftfreq(len(y))\n",
    "plt.plot(freqs,psd)\n",
    "#amplitude\n",
    "plt.axvline(1/(6*np.pi), c= 'r')\n",
    "plt.xlabel('Frequency')\n",
    "plt.ylabel('Intensity')\n",
    "plt.show()"
   ]
  },
  {
   "cell_type": "markdown",
   "id": "426699c3",
   "metadata": {},
   "source": [
    "Truly do not have a solid understanding of this last one. I'm not understanding the readings and example in class."
   ]
  },
  {
   "cell_type": "code",
   "execution_count": null,
   "id": "59c473e8",
   "metadata": {},
   "outputs": [],
   "source": []
  }
 ],
 "metadata": {
  "interpreter": {
   "hash": "aee8b7b246df8f9039afb4144a1f6fd8d2ca17a180786b69acc140d282b71a49"
  },
  "kernelspec": {
   "display_name": "Python 3 (ipykernel)",
   "language": "python",
   "name": "python3"
  },
  "language_info": {
   "codemirror_mode": {
    "name": "ipython",
    "version": 3
   },
   "file_extension": ".py",
   "mimetype": "text/x-python",
   "name": "python",
   "nbconvert_exporter": "python",
   "pygments_lexer": "ipython3",
   "version": "3.9.6"
  }
 },
 "nbformat": 4,
 "nbformat_minor": 5
}

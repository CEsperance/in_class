{
 "cells": [
  {
   "cell_type": "code",
   "execution_count": 45,
   "id": "8ba71646",
   "metadata": {},
   "outputs": [
    {
     "name": "stdout",
     "output_type": "stream",
     "text": [
      "a + b = 20\n",
      "a - b = zero\n",
      "a * b = 100\n"
     ]
    }
   ],
   "source": [
    "def equations(a,b):\n",
    "    c = a + b\n",
    "    print('a + b =', c)\n",
    "    if c == 0:\n",
    "        print('a +b = zero')\n",
    "    d = a - b\n",
    "    if d == 0:\n",
    "        print('a - b = zero')\n",
    "    else:\n",
    "        print('a - b =', d)\n",
    "    f = a * b\n",
    "    print('a * b =',f)\n",
    "    if f == 0:\n",
    "        print('a * b = zero')\n",
    "    \n",
    "    \n",
    "equations(10,10)"
   ]
  },
  {
   "cell_type": "code",
   "execution_count": 46,
   "id": "f12cc186",
   "metadata": {},
   "outputs": [
    {
     "name": "stdout",
     "output_type": "stream",
     "text": [
      "a + b = 15\n",
      "a - b = -5\n",
      "a * b = 50\n"
     ]
    }
   ],
   "source": [
    "def equations(a,b):\n",
    "    c = a + b\n",
    "    print('a + b =', c)\n",
    "    if c == 0:\n",
    "        print('a +b = zero')\n",
    "    d = a - b\n",
    "    if d == 0:\n",
    "        print('a - b = zero')\n",
    "    else:\n",
    "        print('a - b =', d)\n",
    "    f = a * b\n",
    "    print('a * b =',f)\n",
    "    if f == 0:\n",
    "        print('a * b = zero')\n",
    "    \n",
    "    \n",
    "equations(5,10)"
   ]
  },
  {
   "cell_type": "code",
   "execution_count": null,
   "id": "384e8f19",
   "metadata": {},
   "outputs": [],
   "source": []
  }
 ],
 "metadata": {
  "kernelspec": {
   "display_name": "Python 3 (ipykernel)",
   "language": "python",
   "name": "python3"
  },
  "language_info": {
   "codemirror_mode": {
    "name": "ipython",
    "version": 3
   },
   "file_extension": ".py",
   "mimetype": "text/x-python",
   "name": "python",
   "nbconvert_exporter": "python",
   "pygments_lexer": "ipython3",
   "version": "3.9.6"
  }
 },
 "nbformat": 4,
 "nbformat_minor": 5
}

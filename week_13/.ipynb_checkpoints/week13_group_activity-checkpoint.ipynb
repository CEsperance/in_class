{
 "cells": [
  {
   "cell_type": "markdown",
   "id": "d05e29fe",
   "metadata": {},
   "source": [
    "**1. In markdown, describe KNN in your own words.**"
   ]
  },
  {
   "cell_type": "markdown",
   "id": "75884220",
   "metadata": {},
   "source": [
    "KNN (K nearest neighbors) assumes that data points that are similar in input should be similar in output; the similar  data points  exist in close proximity.\n",
    "K is the peer pressure variable - tells us how many data points we want to use to make a classification and NN are the data points.\n",
    "K will tell use how many data points we need to look at to determine if a new variable is going to result in a certain outcome (A or B)."
   ]
  },
  {
   "cell_type": "markdown",
   "id": "cf16a219",
   "metadata": {},
   "source": [
    "**2. Using the KNN example from class, write a function that finds the optimal value for k. You should iterate over a range of values and return the k and the score when the accuracy score is maximized. Be sure to only use odd values.**"
   ]
  },
  {
   "cell_type": "code",
   "execution_count": 1,
   "id": "58bfbcf0",
   "metadata": {
    "scrolled": true
   },
   "outputs": [
    {
     "data": {
      "text/html": [
       "<div>\n",
       "<style scoped>\n",
       "    .dataframe tbody tr th:only-of-type {\n",
       "        vertical-align: middle;\n",
       "    }\n",
       "\n",
       "    .dataframe tbody tr th {\n",
       "        vertical-align: top;\n",
       "    }\n",
       "\n",
       "    .dataframe thead th {\n",
       "        text-align: right;\n",
       "    }\n",
       "</style>\n",
       "<table border=\"1\" class=\"dataframe\">\n",
       "  <thead>\n",
       "    <tr style=\"text-align: right;\">\n",
       "      <th></th>\n",
       "      <th>Pregnancies</th>\n",
       "      <th>Glucose</th>\n",
       "      <th>BloodPressure</th>\n",
       "      <th>SkinThickness</th>\n",
       "      <th>Insulin</th>\n",
       "      <th>BMI</th>\n",
       "      <th>DiabetesPedigreeFunction</th>\n",
       "      <th>Age</th>\n",
       "      <th>Outcome</th>\n",
       "    </tr>\n",
       "  </thead>\n",
       "  <tbody>\n",
       "    <tr>\n",
       "      <th>0</th>\n",
       "      <td>6</td>\n",
       "      <td>148</td>\n",
       "      <td>72</td>\n",
       "      <td>35</td>\n",
       "      <td>0</td>\n",
       "      <td>33.6</td>\n",
       "      <td>0.627</td>\n",
       "      <td>50</td>\n",
       "      <td>1</td>\n",
       "    </tr>\n",
       "    <tr>\n",
       "      <th>1</th>\n",
       "      <td>1</td>\n",
       "      <td>85</td>\n",
       "      <td>66</td>\n",
       "      <td>29</td>\n",
       "      <td>0</td>\n",
       "      <td>26.6</td>\n",
       "      <td>0.351</td>\n",
       "      <td>31</td>\n",
       "      <td>0</td>\n",
       "    </tr>\n",
       "    <tr>\n",
       "      <th>2</th>\n",
       "      <td>8</td>\n",
       "      <td>183</td>\n",
       "      <td>64</td>\n",
       "      <td>0</td>\n",
       "      <td>0</td>\n",
       "      <td>23.3</td>\n",
       "      <td>0.672</td>\n",
       "      <td>32</td>\n",
       "      <td>1</td>\n",
       "    </tr>\n",
       "    <tr>\n",
       "      <th>3</th>\n",
       "      <td>1</td>\n",
       "      <td>89</td>\n",
       "      <td>66</td>\n",
       "      <td>23</td>\n",
       "      <td>94</td>\n",
       "      <td>28.1</td>\n",
       "      <td>0.167</td>\n",
       "      <td>21</td>\n",
       "      <td>0</td>\n",
       "    </tr>\n",
       "    <tr>\n",
       "      <th>4</th>\n",
       "      <td>0</td>\n",
       "      <td>137</td>\n",
       "      <td>40</td>\n",
       "      <td>35</td>\n",
       "      <td>168</td>\n",
       "      <td>43.1</td>\n",
       "      <td>2.288</td>\n",
       "      <td>33</td>\n",
       "      <td>1</td>\n",
       "    </tr>\n",
       "  </tbody>\n",
       "</table>\n",
       "</div>"
      ],
      "text/plain": [
       "   Pregnancies  Glucose  BloodPressure  SkinThickness  Insulin   BMI  \\\n",
       "0            6      148             72             35        0  33.6   \n",
       "1            1       85             66             29        0  26.6   \n",
       "2            8      183             64              0        0  23.3   \n",
       "3            1       89             66             23       94  28.1   \n",
       "4            0      137             40             35      168  43.1   \n",
       "\n",
       "   DiabetesPedigreeFunction  Age  Outcome  \n",
       "0                     0.627   50        1  \n",
       "1                     0.351   31        0  \n",
       "2                     0.672   32        1  \n",
       "3                     0.167   21        0  \n",
       "4                     2.288   33        1  "
      ]
     },
     "execution_count": 1,
     "metadata": {},
     "output_type": "execute_result"
    }
   ],
   "source": [
    "import numpy as np\n",
    "import pandas as pd\n",
    "import matplotlib.pyplot as plt\n",
    "import seaborn as sns\n",
    "\n",
    "from sklearn.model_selection import train_test_split\n",
    "from sklearn.neighbors import KNeighborsClassifier\n",
    "\n",
    "diabetes_df = pd.read_csv(\"diabetes.csv\")\n",
    "diabetes_df.head()"
   ]
  },
  {
   "cell_type": "code",
   "execution_count": 2,
   "id": "56f81402",
   "metadata": {},
   "outputs": [],
   "source": [
    "X = diabetes_df.drop('Outcome',axis=1)\n",
    "y = diabetes_df['Outcome']\n",
    "\n",
    "X_train, X_test, y_train, y_test = train_test_split(X, y, test_size=0.3, random_state=42)\n",
    "\n",
    "#Standardization-transforming values so mean is 0 and SD is 1\n",
    "from sklearn.preprocessing import StandardScaler\n",
    "sc = StandardScaler()\n",
    "X_train = sc.fit_transform(X_train)\n",
    "X_test = sc.fit_transform(X_test)"
   ]
  },
  {
   "cell_type": "code",
   "execution_count": 21,
   "id": "16cc3d29",
   "metadata": {},
   "outputs": [
    {
     "data": {
      "text/plain": [
       "39"
      ]
     },
     "execution_count": 21,
     "metadata": {},
     "output_type": "execute_result"
    }
   ],
   "source": [
    "#create function:\n",
    "\n",
    "k_values = [7, 13, 19, 25, 31]\n",
    "score = {}\n",
    "\n",
    "def func(X_train, X_test, y_train, y_test):\n",
    "    #using range(start,stop,step)\n",
    "    for num in range(2, 100, 1):\n",
    "        \n",
    "        knn=KNeighborsClassifier(n_neighbors=num)\n",
    "        knn.fit(X_train, y_train)\n",
    "        y_predict = knn.predict(X_test)\n",
    "        \n",
    "        score.update({num: knn.score(X_test, y_test)})\n",
    "    for key, value in score.items():\n",
    "         if value == max(score.values()):\n",
    "             return key\n",
    "    \n",
    "    \n",
    "func()"
   ]
  },
  {
   "cell_type": "code",
   "execution_count": 14,
   "id": "83762db3",
   "metadata": {
    "scrolled": true
   },
   "outputs": [
    {
     "name": "stdout",
     "output_type": "stream",
     "text": [
      "{2: 0.683982683982684, 3: 0.70995670995671, 4: 0.7012987012987013, 5: 0.7186147186147186, 6: 0.7012987012987013, 7: 0.7056277056277056, 8: 0.7012987012987013, 9: 0.70995670995671, 10: 0.7056277056277056, 11: 0.7142857142857143, 12: 0.7056277056277056, 13: 0.7142857142857143, 14: 0.70995670995671, 15: 0.7229437229437229, 16: 0.7186147186147186, 17: 0.70995670995671, 18: 0.7186147186147186, 19: 0.7359307359307359, 20: 0.7445887445887446, 21: 0.7402597402597403, 22: 0.7316017316017316, 23: 0.7402597402597403, 24: 0.7316017316017316, 25: 0.7445887445887446, 26: 0.7316017316017316, 27: 0.7359307359307359, 28: 0.7272727272727273, 29: 0.7272727272727273, 30: 0.7316017316017316, 31: 0.7316017316017316, 32: 0.7316017316017316, 33: 0.7359307359307359, 34: 0.7489177489177489, 35: 0.7402597402597403, 36: 0.7489177489177489, 37: 0.7575757575757576, 38: 0.7575757575757576, 39: 0.7619047619047619, 40: 0.7445887445887446, 41: 0.7402597402597403, 42: 0.7489177489177489, 43: 0.7445887445887446, 44: 0.7402597402597403, 45: 0.7445887445887446, 46: 0.7316017316017316, 47: 0.7316017316017316, 48: 0.7272727272727273, 49: 0.7272727272727273, 50: 0.7316017316017316, 51: 0.7229437229437229, 52: 0.7272727272727273, 53: 0.7316017316017316, 54: 0.7359307359307359, 55: 0.7316017316017316, 56: 0.7272727272727273, 57: 0.7359307359307359, 58: 0.7359307359307359, 59: 0.7445887445887446, 60: 0.7359307359307359, 61: 0.7445887445887446, 62: 0.7445887445887446, 63: 0.7445887445887446, 64: 0.7445887445887446, 65: 0.7445887445887446, 66: 0.7402597402597403, 67: 0.7359307359307359, 68: 0.7359307359307359, 69: 0.7402597402597403, 70: 0.7359307359307359, 71: 0.7402597402597403, 72: 0.7316017316017316, 73: 0.7316017316017316, 74: 0.7316017316017316, 75: 0.7272727272727273, 76: 0.7272727272727273, 77: 0.7272727272727273, 78: 0.7316017316017316, 79: 0.7272727272727273, 80: 0.7272727272727273, 81: 0.7272727272727273, 82: 0.7272727272727273, 83: 0.7359307359307359, 84: 0.7316017316017316, 85: 0.7359307359307359, 86: 0.7359307359307359, 87: 0.7359307359307359, 88: 0.7316017316017316, 89: 0.7359307359307359, 90: 0.7359307359307359, 91: 0.7402597402597403, 92: 0.7402597402597403, 93: 0.7445887445887446, 94: 0.7316017316017316, 95: 0.7489177489177489, 96: 0.7489177489177489, 97: 0.7402597402597403, 98: 0.7359307359307359, 99: 0.7316017316017316}\n"
     ]
    }
   ],
   "source": [
    "print(score)"
   ]
  },
  {
   "cell_type": "code",
   "execution_count": 16,
   "id": "cd3f1723",
   "metadata": {},
   "outputs": [],
   "source": [
    "val = max(score.values())"
   ]
  },
  {
   "cell_type": "markdown",
   "id": "51a9594d",
   "metadata": {},
   "source": [
    "**3. How did the panel influence your thoughts about working in tech, specifically work in the data realm? Discuss with your group and summarize your thoughts in under 250 words.**"
   ]
  },
  {
   "attachments": {},
   "cell_type": "markdown",
   "id": "6dbadc34",
   "metadata": {},
   "source": [
    "It was encouraging to hear how not all the panelist had a math/stats background and were able to transfer the skills developed in their past positions skills to a data science/analytic role. It's also inspiring to see how the tech world interacts with the real world. Jeromey and Michelle's example of their favorite project were great examples on how data has real world impact on a large scale. Lastly, never forget the basic/foundational skills because it is something you need to use everyday."
   ]
  }
 ],
 "metadata": {
  "kernelspec": {
   "display_name": "Python 3 (ipykernel)",
   "language": "python",
   "name": "python3"
  },
  "language_info": {
   "codemirror_mode": {
    "name": "ipython",
    "version": 3
   },
   "file_extension": ".py",
   "mimetype": "text/x-python",
   "name": "python",
   "nbconvert_exporter": "python",
   "pygments_lexer": "ipython3",
   "version": "3.9.6"
  }
 },
 "nbformat": 4,
 "nbformat_minor": 5
}

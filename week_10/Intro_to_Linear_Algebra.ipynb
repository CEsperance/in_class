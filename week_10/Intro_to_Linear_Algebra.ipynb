{
 "cells": [
  {
   "cell_type": "markdown",
   "source": [
    "#  Vectors "
   ],
   "metadata": {}
  },
  {
   "cell_type": "code",
   "execution_count": 2,
   "source": [
    "import numpy as np\n",
    "v = np.array([[1], [2], [3]])\n",
    "v2 = np.array([[-1], [-2], [-3]])\n",
    "print(v)"
   ],
   "outputs": [
    {
     "output_type": "stream",
     "name": "stdout",
     "text": [
      "[[1]\n",
      " [2]\n",
      " [3]]\n"
     ]
    }
   ],
   "metadata": {}
  },
  {
   "cell_type": "code",
   "execution_count": 3,
   "source": [
    "print(v.T) # transpose"
   ],
   "outputs": [
    {
     "output_type": "stream",
     "name": "stdout",
     "text": [
      "[[1 2 3]]\n"
     ]
    }
   ],
   "metadata": {}
  },
  {
   "cell_type": "code",
   "execution_count": 4,
   "source": [
    "v.shape"
   ],
   "outputs": [
    {
     "output_type": "execute_result",
     "data": {
      "text/plain": [
       "(3, 1)"
      ]
     },
     "metadata": {},
     "execution_count": 4
    }
   ],
   "metadata": {}
  },
  {
   "cell_type": "markdown",
   "source": [
    "# Matrices"
   ],
   "metadata": {}
  },
  {
   "cell_type": "code",
   "execution_count": 5,
   "source": [
    "M = np.array([[1,2,3],[4,5,6], [7,8,9]])\n",
    "M"
   ],
   "outputs": [
    {
     "output_type": "execute_result",
     "data": {
      "text/plain": [
       "array([[1, 2, 3],\n",
       "       [4, 5, 6],\n",
       "       [7, 8, 9]])"
      ]
     },
     "metadata": {},
     "execution_count": 5
    }
   ],
   "metadata": {}
  },
  {
   "cell_type": "code",
   "execution_count": 6,
   "source": [
    "M.shape"
   ],
   "outputs": [
    {
     "output_type": "execute_result",
     "data": {
      "text/plain": [
       "(3, 3)"
      ]
     },
     "metadata": {},
     "execution_count": 6
    }
   ],
   "metadata": {}
  },
  {
   "cell_type": "code",
   "execution_count": 7,
   "source": [
    "#Scalar\n",
    "x=3.5\n",
    "\n",
    "#zipping\n",
    "new_matrix = list(zip(v,v2))\n",
    "new_matrix\n",
    "\n",
    "#output shows the location in memory...similar to classes"
   ],
   "outputs": [
    {
     "output_type": "execute_result",
     "data": {
      "text/plain": [
       "[(array([1]), array([-1])),\n",
       " (array([2]), array([-2])),\n",
       " (array([3]), array([-3]))]"
      ]
     },
     "metadata": {},
     "execution_count": 7
    }
   ],
   "metadata": {}
  },
  {
   "cell_type": "code",
   "execution_count": 8,
   "source": [
    "type(new_matrix)"
   ],
   "outputs": [
    {
     "output_type": "execute_result",
     "data": {
      "text/plain": [
       "list"
      ]
     },
     "metadata": {},
     "execution_count": 8
    }
   ],
   "metadata": {}
  },
  {
   "cell_type": "code",
   "execution_count": 9,
   "source": [
    "#dot product of a and b = ax*bx + ay*by"
   ],
   "outputs": [],
   "metadata": {}
  },
  {
   "cell_type": "markdown",
   "source": [
    "# dot product\n",
    "\n",
    "We use the dot product to multiply vectors. With 2D vectors, this is the  same as matrix multiplication, and we produce a scalar value (a number, not a vector).\n",
    "\n",
    "Result tells you the degree to which the vectors interact, or the interaction between similar dimensions.\n",
    "\n",
    "Why do we care? rendering, force diagrams, solar panel tracking"
   ],
   "metadata": {}
  },
  {
   "cell_type": "code",
   "execution_count": 10,
   "source": [
    "print(v.T)\n",
    "print(v)"
   ],
   "outputs": [
    {
     "output_type": "stream",
     "name": "stdout",
     "text": [
      "[[1 2 3]]\n",
      "[[1]\n",
      " [2]\n",
      " [3]]\n"
     ]
    }
   ],
   "metadata": {}
  },
  {
   "cell_type": "code",
   "execution_count": 11,
   "source": [
    "#1*1 + 2*2 + 3*3\n",
    "np.dot(v.T,v)"
   ],
   "outputs": [
    {
     "output_type": "execute_result",
     "data": {
      "text/plain": [
       "array([[14]])"
      ]
     },
     "metadata": {},
     "execution_count": 11
    }
   ],
   "metadata": {}
  },
  {
   "cell_type": "code",
   "execution_count": 12,
   "source": [
    "# use directionality(north, south, east, west) and convert that into vectors\n",
    "#directionality example\n",
    "north = np.array([0,1])\n",
    "east = np.array([1,0])\n",
    "south = np.array([0,-1])\n",
    "west= np.array([-1,0])\n",
    "\n",
    "#to what degree are the two directions the same\n",
    "np.dot(north, south)\n",
    "#what directions have nothing in common\n",
    "np.dot(north, east)"
   ],
   "outputs": [
    {
     "output_type": "execute_result",
     "data": {
      "text/plain": [
       "0"
      ]
     },
     "metadata": {},
     "execution_count": 12
    }
   ],
   "metadata": {}
  },
  {
   "cell_type": "code",
   "execution_count": 13,
   "source": [
    "#to what degree are north and south the same?\n",
    "#create an example\n",
    "np.dot(north, south)\n",
    "\n",
    "# 1 refers to them having the same x-axis and have 1 degree in common. This is the degree of similarity"
   ],
   "outputs": [
    {
     "output_type": "execute_result",
     "data": {
      "text/plain": [
       "-1"
      ]
     },
     "metadata": {},
     "execution_count": 13
    }
   ],
   "metadata": {}
  },
  {
   "cell_type": "markdown",
   "source": [
    "# Cross product \n",
    "- think of the ceiling and it being on the wall. The vector is the two corners\n",
    "\n",
    "Type of vector multiplicaton, bit it shows the interaction between different components of the vector. \n",
    "It tracks all the cross interaction between dimensions\n",
    "\n",
    "When you compute the cross product, you get a new vector that is perpendicular to both the input vectors\n",
    "\n",
    "In each part of the corss product calculation, you are leaving out an interaction. * this could be stated better\n",
    "\n",
    "Why do we care?\n",
    "Torque and the moment of force\n",
    "moment = measure of tendency to rotate about a particular point"
   ],
   "metadata": {}
  },
  {
   "cell_type": "code",
   "execution_count": 14,
   "source": [
    "np.cross(v,v2, axisa=0, axisb=0)\n",
    "\n",
    "#outcome is all zeroes because the values are the opposite of each other"
   ],
   "outputs": [
    {
     "output_type": "execute_result",
     "data": {
      "text/plain": [
       "array([[0, 0, 0]])"
      ]
     },
     "metadata": {},
     "execution_count": 14
    }
   ],
   "metadata": {}
  },
  {
   "cell_type": "markdown",
   "source": [
    "# Orthogonality  \n",
    "\n",
    "Two vectors are orthoganal if they're perpendicular to eachother\n",
    "The dot product is 0 or the identity matrix\n",
    "\n",
    "Below is latex documentation\n",
    "\n",
    "$$ A \\cdot A^T = I $$\n"
   ],
   "metadata": {}
  },
  {
   "cell_type": "code",
   "execution_count": 15,
   "source": [
    "# this is an identity matrix\n",
    "# a test for orthogonality is if the matrix and its transpose equal the identity matrix\n",
    "M = np.array([[1,0,0],\n",
    "            [0,1,0],\n",
    "            [0,0,1]])\n",
    "M"
   ],
   "outputs": [
    {
     "output_type": "execute_result",
     "data": {
      "text/plain": [
       "array([[1, 0, 0],\n",
       "       [0, 1, 0],\n",
       "       [0, 0, 1]])"
      ]
     },
     "metadata": {},
     "execution_count": 15
    }
   ],
   "metadata": {}
  },
  {
   "cell_type": "code",
   "execution_count": 16,
   "source": [
    "np.dot(M, M.T)"
   ],
   "outputs": [
    {
     "output_type": "execute_result",
     "data": {
      "text/plain": [
       "array([[1, 0, 0],\n",
       "       [0, 1, 0],\n",
       "       [0, 0, 1]])"
      ]
     },
     "metadata": {},
     "execution_count": 16
    }
   ],
   "metadata": {}
  },
  {
   "cell_type": "code",
   "execution_count": 17,
   "source": [
    "# this is not orthogonal since the diagnal isn't 1\n",
    "#doesnt produce an identity matrix, and therefore is not orthogonal\n",
    "M = np.array([[1,2,3],[4,5,6],[7,8,9]])\n",
    "np.dot(M,M.T)"
   ],
   "outputs": [
    {
     "output_type": "execute_result",
     "data": {
      "text/plain": [
       "array([[ 14,  32,  50],\n",
       "       [ 32,  77, 122],\n",
       "       [ 50, 122, 194]])"
      ]
     },
     "metadata": {},
     "execution_count": 17
    }
   ],
   "metadata": {}
  },
  {
   "cell_type": "markdown",
   "source": [
    "Shift+tab in an open paranthesis gives you the info about a function"
   ],
   "metadata": {}
  },
  {
   "cell_type": "code",
   "execution_count": null,
   "source": [],
   "outputs": [],
   "metadata": {}
  }
 ],
 "metadata": {
  "kernelspec": {
   "name": "python3",
   "display_name": "Python 3.9.6 64-bit"
  },
  "language_info": {
   "codemirror_mode": {
    "name": "ipython",
    "version": 3
   },
   "file_extension": ".py",
   "mimetype": "text/x-python",
   "name": "python",
   "nbconvert_exporter": "python",
   "pygments_lexer": "ipython3",
   "version": "3.9.6"
  },
  "interpreter": {
   "hash": "aee8b7b246df8f9039afb4144a1f6fd8d2ca17a180786b69acc140d282b71a49"
  }
 },
 "nbformat": 4,
 "nbformat_minor": 5
}
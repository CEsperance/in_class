{
 "cells": [
  {
   "cell_type": "markdown",
   "id": "006fd2b8",
   "metadata": {},
   "source": [
    "Definite integrals are some the most common mathematical expressions:\n",
    "\n",
    "\n",
    " $$ [ \\int\\limits_0^1 x^2 + y^2 \\ dx] $$"
   ]
  },
  {
   "cell_type": "markdown",
   "id": "978ce8e2",
   "metadata": {},
   "source": [
    "The symbols _ and ^ can also be combined in the same expression\n",
    "\n",
    "\n",
    "$$ [ a_1^2 + a_2^2 = a_3^2] $$"
   ]
  },
  {
   "cell_type": "markdown",
   "id": "9b20565d",
   "metadata": {},
   "source": []
  }
 ],
 "metadata": {
  "kernelspec": {
   "display_name": "Python 3 (ipykernel)",
   "language": "python",
   "name": "python3"
  },
  "language_info": {
   "codemirror_mode": {
    "name": "ipython",
    "version": 3
   },
   "file_extension": ".py",
   "mimetype": "text/x-python",
   "name": "python",
   "nbconvert_exporter": "python",
   "pygments_lexer": "ipython3",
   "version": "3.9.6"
  }
 },
 "nbformat": 4,
 "nbformat_minor": 5
}

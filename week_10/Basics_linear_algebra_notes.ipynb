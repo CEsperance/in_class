{
 "cells": [
  {
   "cell_type": "markdown",
   "source": [
    "# Sets\n",
    "- a collection of objects and denoted by {}\n",
    "- For example, 𝑆=𝑜𝑟𝑎𝑛𝑔𝑒,𝑎𝑝𝑝𝑙𝑒,𝑏𝑎𝑛𝑎𝑛𝑎 means “S is the set containing ‘orange’, ‘apple’, and ‘banana’”.\n",
    "- Given two sets, 𝐴 and 𝐵, the union of 𝐴 and 𝐵 is denoted by 𝐴∪𝐵 and equal to the set containing all the elements of 𝐴 and 𝐵. \n",
    "- The intersect of 𝐴 and 𝐵 is denoted by 𝐴∩𝐵 and equal to the set containing all the elements that belong to both 𝐴 and 𝐵. \n",
    "- In set notation, a colon, :, is used to mean “such that”. \n",
    "- The symbol ∈ is used to denote that an object is contained in a set. For example 𝑎∈𝐴 means “𝑎 is a member of 𝐴” or “𝑎 is in 𝐴.” \n",
    "- A backslash, ∖, in set notation means set minus. So if 𝑎∈𝐴 then 𝐴∖𝑎 means “𝐴 minus the element, 𝑎.”"
   ],
   "metadata": {}
  },
  {
   "cell_type": "markdown",
   "source": [
    "TRY IT! Let 𝑆 be the set of all real (𝑥,𝑦) pairs such that 𝑥2+𝑦2=1. Write 𝑆 using set notation.\n",
    "\n",
    "𝑆={(𝑥,𝑦):𝑥,𝑦∈ℝ,𝑥2+𝑦2=1}"
   ],
   "metadata": {}
  },
  {
   "cell_type": "markdown",
   "source": [
    "Vector - an object that has both magnitude and direction\n",
    "\n",
    "A vector in ℝ𝑛 is an 𝑛-tuple, or point, in ℝ𝑛. Vectors can be written horizontally (i.e., with the elements of the vector next to each other) in a row vector, or vertically (i.e., with the elements of the vector on top of each other) in a column vector.\n",
    "\n",
    " The transpose of a column vector is a row vector of the same length, and the transpose of a row vector is a column vector. In mathematics, the transpose is denoted by a superscript 𝑇, or 𝑣𝑇.\n",
    "\n",
    "Zero vector is the vector in ℝ𝑛 containing all zeros\n",
    "\n",
    "The norm of a vector is a measure of its length. There are many ways of defining the length of a vector depending on the metric used (i.e., the distance formula chosen). \n",
    "1.  𝐿2 norm, which is computed according to the distance formula you are probably familiar with from grade school. The 𝐿2 norm of a vector 𝑣 is denoted by ‖𝑣‖2 and ‖𝑣‖2=∑𝑖𝑣2𝑖‾‾‾‾‾‾√. This is sometimes also called Euclidian length and refers to the “physical” length of a vector in one-, two-, or three-dimensional space. The 𝐿1 norm, or “Manhattan Distance,” is computed as ‖𝑣‖1=∑𝑖|𝑣𝑖|, and is named after the grid-like road structure in New York City. In general, the p-norm, 𝐿𝑝, of a vector is ‖𝑣‖𝑝=(∑𝑖𝑣𝑝𝑖)‾‾‾‾‾‾‾√𝑝. The 𝐿∞ norm is the 𝑝-norm, where 𝑝=∞. The 𝐿∞ norm is written as ||𝑣||∞ and it is equal to the maximum absolute value in 𝑣."
   ],
   "metadata": {}
  },
  {
   "cell_type": "code",
   "execution_count": 2,
   "source": [
    "# create a row vector and column vector and show the shape of the vectors\n",
    "import numpy as np\n",
    "vector_row = np.array([[1, -5, 3, 2, 4]])\n",
    "vector_column = np.array([[1], \n",
    "                          [2], \n",
    "                          [3], \n",
    "                          [4]])\n",
    "print(vector_row.shape)\n",
    "print(vector_column.shape)"
   ],
   "outputs": [
    {
     "output_type": "stream",
     "name": "stdout",
     "text": [
      "(1, 5)\n",
      "(4, 1)\n"
     ]
    }
   ],
   "metadata": {}
  },
  {
   "cell_type": "markdown",
   "source": [
    "Note! In Python, the row vector and column vector are a little bit tricky. You can see from the above in order to get the 1 row and 4 columns or 4 rows and 1 column vectors, we have to use list of list to specify it. You can define np.array([1,2,3,4]), but you will soon notice that it doesn’t contain information about row or column."
   ],
   "metadata": {}
  },
  {
   "cell_type": "code",
   "execution_count": 3,
   "source": [
    "# TRY IT! Transpose the row vector we defined above into a column vector and calculate the 𝐿1, 𝐿2, and 𝐿∞ norm of it. \n",
    "# Verify that the 𝐿∞ norm of a vector is equivalent to the maximum value of the elements in the vector.\n",
    "\n",
    "from numpy.linalg import norm\n",
    "new_vector = vector_row.T\n",
    "print(new_vector)\n",
    "\n",
    "\n",
    "norm_1 = norm(new_vector, 1)\n",
    "norm_2 = norm(new_vector, 2)\n",
    "norm_inf = norm(new_vector, np.inf)\n",
    "print('L_1 is: %.1f'%norm_1)\n",
    "print('L_2 is: %.1f'%norm_2)\n",
    "print('L_inf is: %.1f'%norm_inf)"
   ],
   "outputs": [
    {
     "output_type": "stream",
     "name": "stdout",
     "text": [
      "[[ 1]\n",
      " [-5]\n",
      " [ 3]\n",
      " [ 2]\n",
      " [ 4]]\n",
      "L_1 is: 15.0\n",
      "L_2 is: 7.4\n",
      "L_inf is: 5.0\n"
     ]
    }
   ],
   "metadata": {}
  },
  {
   "cell_type": "markdown",
   "source": [
    "Vector addition "
   ],
   "metadata": {}
  },
  {
   "cell_type": "markdown",
   "source": [
    "## Dot Product\n",
    "the dot product of two vectors is the sum of the product of the respective elements in each vector\n",
    "\n",
    "The angle between two vectors, 𝜃, is defined by the formula:\n",
    "𝑣⋅𝑤=‖𝑣‖2‖𝑤‖2cos𝜃"
   ],
   "metadata": {}
  },
  {
   "cell_type": "code",
   "execution_count": 4,
   "source": [
    "#dot product\n",
    "a = np.array([4,5,6])\n",
    "b = np.array([7,4,2])\n",
    "print(np.dot(a,b))"
   ],
   "outputs": [
    {
     "output_type": "stream",
     "name": "stdout",
     "text": [
      "60\n"
     ]
    }
   ],
   "metadata": {}
  },
  {
   "cell_type": "code",
   "execution_count": 5,
   "source": [
    "# another way to write teh dot product\n",
    "a = np.array([4,5,6])\n",
    "b = np.array([7,4,2])\n",
    "print(a @ b)"
   ],
   "outputs": [
    {
     "output_type": "stream",
     "name": "stdout",
     "text": [
      "60\n"
     ]
    }
   ],
   "metadata": {}
  },
  {
   "cell_type": "code",
   "execution_count": 6,
   "source": [
    "#https://www.learndatasci.com/glossary/orthogonal-and-orthonormal-vectors/\n",
    "v1 = np.array([1,-2, 4])\n",
    "v2 = np.array([2, 5, 2])\n",
    "\n",
    "dot_product = np.sum(v1*v2)\n",
    "print(\"The dot product of v1 and v2 is\", dot_product )"
   ],
   "outputs": [
    {
     "output_type": "stream",
     "name": "stdout",
     "text": [
      "The dot product of v1 and v2 is 0\n"
     ]
    }
   ],
   "metadata": {}
  },
  {
   "cell_type": "code",
   "execution_count": 7,
   "source": [
    "# another way of using the dot product to find orthogonality between two vectors\n",
    "v1 = np.array([1,-2, 4])\n",
    "v2 = np.array([2, 5, 2])\n",
    "\n",
    "transposeofv1 = np.transpose(v1)\n",
    "result = np.dot(v2, transposeofv1)\n",
    "print(result)"
   ],
   "outputs": [
    {
     "output_type": "stream",
     "name": "stdout",
     "text": [
      "0\n"
     ]
    }
   ],
   "metadata": {}
  },
  {
   "cell_type": "code",
   "execution_count": 4,
   "source": [
    "# compute the angles between the vectors v = [10,9,3] and w = [2, 5, 12]\n",
    "# refer to khan academy video\n",
    "from numpy import arccos, dot\n",
    "\n",
    "v = np.array([[10, 9, 3]])\n",
    "w = np.array([[2, 5, 12]])\n",
    "theta = \\\n",
    "    arccos(dot(v, w.T)/(norm(v)*norm(w))) \n",
    "# transpose vector w b/c you need a number/scalar. if you don't transpose, you'll get a matrix; dot product requires\n",
    "# a number\n",
    "print(theta)"
   ],
   "outputs": [
    {
     "output_type": "stream",
     "name": "stdout",
     "text": [
      "[[0.97992471]]\n"
     ]
    }
   ],
   "metadata": {}
  },
  {
   "cell_type": "code",
   "execution_count": 11,
   "source": [
    "from numpy import arccos, dot\n",
    "\n",
    "v = np.array([[10, 9, 3]])\n",
    "w = np.array([[2, 5, 12]])\n",
    "theta = \\\n",
    "    arccos(dot(v, w.T)/(norm(v)*norm(w))) \n",
    "# transpose vector w b/c you need a number/scalar. if you don't transpose, you'll get a matrix; dot product requires\n",
    "# a number\n",
    "print(theta)"
   ],
   "outputs": [
    {
     "output_type": "stream",
     "name": "stdout",
     "text": [
      "[[0.97992471]]\n"
     ]
    }
   ],
   "metadata": {}
  },
  {
   "cell_type": "code",
   "execution_count": 6,
   "source": [
    "# compute the angle between the vectors\n",
    "\n",
    "v= np.array([[2,2,-1]])\n",
    "v2 = np.array([[5,-3,2]])\n",
    "theta = \\\n",
    "    arccos(dot(v, v2.T)/(norm(v)*norm(v2)))\n",
    "print(theta)\n",
    "#1.46 radians which is about 84 degrees"
   ],
   "outputs": [
    {
     "output_type": "stream",
     "name": "stdout",
     "text": [
      "[[1.46243678]]\n"
     ]
    }
   ],
   "metadata": {}
  },
  {
   "cell_type": "code",
   "execution_count": 7,
   "source": [
    "v = np.array([[4, 2, 5]])\n",
    "v1 = np.array([[-1, 3, -6]])\n",
    "v2 = np.array([[7, -5, 1]])\n",
    "# find a dot b:\n",
    "theta = \\\n",
    "    arccos(dot(v, v1.T)/(norm(v)*norm(v1)))\n",
    "print(theta)\n",
    "# find b dot c\n",
    "theta = \\\n",
    "    arccos(dot(v1, v2.T)/ (norm(v1)*norm(v2)))\n",
    "print(theta)"
   ],
   "outputs": [
    {
     "output_type": "stream",
     "name": "stdout",
     "text": [
      "[[2.23371729]]\n",
      "[[2.06769738]]\n"
     ]
    }
   ],
   "metadata": {}
  },
  {
   "cell_type": "markdown",
   "source": [
    "## Cross Product\n",
    "multiples two vectors to get another vector\n",
    "\n",
    "it's a  vector perpendicular to to both vector v and vector w with the length equal to the area enclosed by the parallelogram created by the two vectors\n",
    "\n",
    "The cross product between two vectors, 𝑣 and 𝑤, is written 𝑣×𝑤. It is defined by 𝑣×𝑤=‖𝑣‖2‖𝑤‖2sin(𝜃)n, where 𝜃 is the angle between the 𝑣 and 𝑤 (which can be computed from the dot product) and 𝑛 is a vector perpendicular to both 𝑣 and 𝑤 with unit length (i.e., the length is one). The geometric interpretation of the cross product is a vector perpendicular to both 𝑣 and 𝑤 with length equal to the area enclosed by the parallelogram created by the two vectors.\n"
   ],
   "metadata": {}
  },
  {
   "cell_type": "code",
   "execution_count": 18,
   "source": [
    "# TRY IT! Given the vectors 𝑣=[0,2,0] and 𝑤=[3,0,0], use the Numpy function cross to compute the cross product of v and w.\n",
    "\n",
    "v = np.array([[0, 2, 0]])\n",
    "w = np.array([[3, 0, 0]])\n",
    "print(np.cross(v, w))"
   ],
   "outputs": [
    {
     "output_type": "stream",
     "name": "stdout",
     "text": [
      "[[ 0  0 -6]]\n"
     ]
    }
   ],
   "metadata": {}
  },
  {
   "cell_type": "markdown",
   "source": [
    "## Linear Combination\n",
    "Assuming that 𝑆 is a set in which addition and scalar multiplication are defined, a linear combination of 𝑆 is defined as $ ∑𝛼𝑖𝑠𝑖 $\n",
    "\n",
    "where 𝛼𝑖 is any real number and 𝑠𝑖 is the 𝑖th object in 𝑆. Sometimes the 𝛼𝑖 values are called the coefficients of 𝑠𝑖. Linear combinations can be used to describe numerous things. For example, a grocery bill can be written ∑𝑐𝑖𝑛𝑖, where 𝑐𝑖 is the cost of item 𝑖 and 𝑛𝑖 is the number of item 𝑖 purchased. Thus, the total cost is a linear combination of the items purchased."
   ],
   "metadata": {}
  },
  {
   "cell_type": "markdown",
   "source": [
    "# linearly independent\n",
    "- a set is linearly independent if no object in the set can be written as a linear combination of other objects in the set\n",
    "- A set of vectors that is not linearly independent is linearly dependent."
   ],
   "metadata": {}
  },
  {
   "cell_type": "code",
   "execution_count": 4,
   "source": [
    "# TRY IT! Given the row vectors 𝑣=[0,3,2], 𝑤=[4,1,1], and 𝑢=[0,−2,0], write the vector 𝑥=[−8,−1,4] as a linear combination of 𝑣, 𝑤, and 𝑢.\n",
    "v = np.array([[0, 3, 2]])\n",
    "w = np.array([[4, 1, 1]])\n",
    "u = np.array([[0, -2, 0]])\n",
    "x = 3*v-2*w+4*u\n",
    "print(x)"
   ],
   "outputs": [
    {
     "output_type": "stream",
     "name": "stdout",
     "text": [
      "[[-8 -1  4]]\n"
     ]
    }
   ],
   "metadata": {}
  },
  {
   "cell_type": "code",
   "execution_count": 5,
   "source": [
    "# creating a matrix\n",
    "#create matrix A\n",
    "# best way to create a matrix is to use numpy array and specify the arrays inside the brackets. 3 rows = 3 square brackets\n",
    "\n",
    "A = np.array([[1,2,4], [2,4,3], [0,1,1]])\n",
    "A"
   ],
   "outputs": [
    {
     "output_type": "execute_result",
     "data": {
      "text/plain": [
       "array([[1, 2, 4],\n",
       "       [2, 4, 3],\n",
       "       [0, 1, 1]])"
      ]
     },
     "metadata": {},
     "execution_count": 5
    }
   ],
   "metadata": {}
  },
  {
   "cell_type": "code",
   "execution_count": 19,
   "source": [
    "# transpose matrix A and  save as A_T\n",
    "A_T =  A.transpose()\n",
    "A_T"
   ],
   "outputs": [
    {
     "output_type": "execute_result",
     "data": {
      "text/plain": [
       "array([[1, 2, 0],\n",
       "       [2, 4, 1],\n",
       "       [4, 3, 1]])"
      ]
     },
     "metadata": {},
     "execution_count": 19
    }
   ],
   "metadata": {}
  },
  {
   "cell_type": "code",
   "execution_count": 9,
   "source": [
    "# generate a matrix. Use the arange function to create a one dimensional matrix and you can reshape it to create 2D matrix or more\n",
    "B = np.arange(1,10) # 10 is not inclusive\n",
    "print(B) # prints an array of numbers\n",
    "\n",
    "B.reshape(3,3) # gives a 3x3 matrix with the numbers generated"
   ],
   "outputs": [
    {
     "output_type": "stream",
     "name": "stdout",
     "text": [
      "[1 2 3 4 5 6 7 8 9]\n"
     ]
    },
    {
     "output_type": "execute_result",
     "data": {
      "text/plain": [
       "array([[1, 2, 3],\n",
       "       [4, 5, 6],\n",
       "       [7, 8, 9]])"
      ]
     },
     "metadata": {},
     "execution_count": 9
    }
   ],
   "metadata": {}
  },
  {
   "cell_type": "code",
   "execution_count": 14,
   "source": [
    "# generate an array of even numbers for the matrix\n",
    "B = np.arange(0,11,2)\n",
    "print(B) # prints an array of numbers\n",
    "B.reshape(2,3)"
   ],
   "outputs": [
    {
     "output_type": "stream",
     "name": "stdout",
     "text": [
      "[ 0  2  4  6  8 10]\n"
     ]
    },
    {
     "output_type": "execute_result",
     "data": {
      "text/plain": [
       "array([[ 0,  2,  4],\n",
       "       [ 6,  8, 10]])"
      ]
     },
     "metadata": {},
     "execution_count": 14
    }
   ],
   "metadata": {}
  },
  {
   "cell_type": "code",
   "execution_count": 22,
   "source": [
    "# transpose matrix B and save as B_T\n",
    "B = np.array([[2,-1],[3,2]])\n",
    "B\n",
    "B_T = B.transpose()\n",
    "B_T"
   ],
   "outputs": [
    {
     "output_type": "execute_result",
     "data": {
      "text/plain": [
       "array([[ 2,  3],\n",
       "       [-1,  2]])"
      ]
     },
     "metadata": {},
     "execution_count": 22
    }
   ],
   "metadata": {}
  },
  {
   "cell_type": "code",
   "execution_count": 15,
   "source": [
    "#transpose a matrix\n",
    "D  = np.array([[3,4,2], [1,5,4]])\n",
    "#check the matrix\n",
    "D"
   ],
   "outputs": [
    {
     "output_type": "execute_result",
     "data": {
      "text/plain": [
       "array([[3, 4, 2],\n",
       "       [1, 5, 4]])"
      ]
     },
     "metadata": {},
     "execution_count": 15
    }
   ],
   "metadata": {}
  },
  {
   "cell_type": "code",
   "execution_count": 18,
   "source": [
    "#transpose the matrix with only two columns\n",
    "D.transpose()"
   ],
   "outputs": [
    {
     "output_type": "execute_result",
     "data": {
      "text/plain": [
       "array([[3, 1],\n",
       "       [4, 5],\n",
       "       [2, 4]])"
      ]
     },
     "metadata": {},
     "execution_count": 18
    }
   ],
   "metadata": {}
  },
  {
   "cell_type": "markdown",
   "source": [
    "## Matrix Multiplication"
   ],
   "metadata": {}
  },
  {
   "cell_type": "code",
   "execution_count": 23,
   "source": [
    "# create a matrix\n",
    "A1 = np.arange(1,10).reshape(3,3)\n",
    "A1"
   ],
   "outputs": [
    {
     "output_type": "execute_result",
     "data": {
      "text/plain": [
       "array([[1, 2, 3],\n",
       "       [4, 5, 6],\n",
       "       [7, 8, 9]])"
      ]
     },
     "metadata": {},
     "execution_count": 23
    }
   ],
   "metadata": {}
  },
  {
   "cell_type": "code",
   "execution_count": 24,
   "source": [
    "A2 = np.arange(5,14).reshape(3,3)\n",
    "A2"
   ],
   "outputs": [
    {
     "output_type": "execute_result",
     "data": {
      "text/plain": [
       "array([[ 5,  6,  7],\n",
       "       [ 8,  9, 10],\n",
       "       [11, 12, 13]])"
      ]
     },
     "metadata": {},
     "execution_count": 24
    }
   ],
   "metadata": {
    "scrolled": true
   }
  },
  {
   "cell_type": "code",
   "execution_count": 28,
   "source": [
    "#this is element wise multiplication\n",
    "# 1*5, 2*6, 3*7, etc.\n",
    "A3 = A1 *A2\n",
    "A3"
   ],
   "outputs": [
    {
     "output_type": "execute_result",
     "data": {
      "text/plain": [
       "array([[  5,  12,  21],\n",
       "       [ 32,  45,  60],\n",
       "       [ 77,  96, 117]])"
      ]
     },
     "metadata": {},
     "execution_count": 28
    }
   ],
   "metadata": {}
  },
  {
   "cell_type": "code",
   "execution_count": 29,
   "source": [
    "#  Real matrix multiplication multiplies the first row in the first matrix by the first column in the second matrix\n",
    "# Matrix multiplication using dot()\n",
    "A4 = A1.dot(A2)\n",
    "A4"
   ],
   "outputs": [
    {
     "output_type": "execute_result",
     "data": {
      "text/plain": [
       "array([[ 54,  60,  66],\n",
       "       [126, 141, 156],\n",
       "       [198, 222, 246]])"
      ]
     },
     "metadata": {},
     "execution_count": 29
    }
   ],
   "metadata": {}
  },
  {
   "cell_type": "code",
   "execution_count": 10,
   "source": [
    "# Verifying the result above\n",
    "a = ((1*5)+(2*8)+(3*11))\n",
    "a\n",
    "b = ((4*6)+(5*9)+(6*12))\n",
    "b\n",
    "c = (7*7)+(8*10)+(9*13)\n",
    "c"
   ],
   "outputs": [
    {
     "output_type": "execute_result",
     "data": {
      "text/plain": [
       "246"
      ]
     },
     "metadata": {},
     "execution_count": 10
    }
   ],
   "metadata": {}
  },
  {
   "cell_type": "code",
   "execution_count": 21,
   "source": [
    "from numpy.linalg import inv\n",
    "M = np.array([[0,2,1,3], \n",
    "             [3,2,8,1], \n",
    "             [1,0,0,3],\n",
    "             [0,3,2,1]])\n",
    "\n",
    "M"
   ],
   "outputs": [
    {
     "output_type": "execute_result",
     "data": {
      "text/plain": [
       "array([[0, 2, 1, 3],\n",
       "       [3, 2, 8, 1],\n",
       "       [1, 0, 0, 3],\n",
       "       [0, 3, 2, 1]])"
      ]
     },
     "metadata": {},
     "execution_count": 21
    }
   ],
   "metadata": {}
  },
  {
   "cell_type": "code",
   "execution_count": null,
   "source": [],
   "outputs": [],
   "metadata": {}
  }
 ],
 "metadata": {
  "interpreter": {
   "hash": "aee8b7b246df8f9039afb4144a1f6fd8d2ca17a180786b69acc140d282b71a49"
  },
  "kernelspec": {
   "name": "python3",
   "display_name": "Python 3.9.6 64-bit"
  },
  "language_info": {
   "codemirror_mode": {
    "name": "ipython",
    "version": 3
   },
   "file_extension": ".py",
   "mimetype": "text/x-python",
   "name": "python",
   "nbconvert_exporter": "python",
   "pygments_lexer": "ipython3",
   "version": "3.9.6"
  }
 },
 "nbformat": 4,
 "nbformat_minor": 5
}
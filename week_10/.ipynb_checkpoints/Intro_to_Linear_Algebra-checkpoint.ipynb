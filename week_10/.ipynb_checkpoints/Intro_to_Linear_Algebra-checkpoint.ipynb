{
 "cells": [
  {
   "cell_type": "markdown",
   "id": "3430a0bb",
   "metadata": {},
   "source": [
    "#  Vectors "
   ]
  },
  {
   "cell_type": "code",
   "execution_count": 2,
   "id": "846c80df",
   "metadata": {},
   "outputs": [
    {
     "name": "stdout",
     "output_type": "stream",
     "text": [
      "[[1]\n",
      " [2]\n",
      " [3]]\n"
     ]
    }
   ],
   "source": [
    "import numpy as np\n",
    "v = np.array([[1], [2], [3]])\n",
    "v2 = np.array([[-1], [-2], [-3]])\n",
    "print(v)"
   ]
  },
  {
   "cell_type": "code",
   "execution_count": 3,
   "id": "6a30e96b",
   "metadata": {},
   "outputs": [
    {
     "name": "stdout",
     "output_type": "stream",
     "text": [
      "[[1 2 3]]\n"
     ]
    }
   ],
   "source": [
    "print(v.T) # transpose"
   ]
  },
  {
   "cell_type": "code",
   "execution_count": 4,
   "id": "693875e5",
   "metadata": {},
   "outputs": [
    {
     "data": {
      "text/plain": [
       "(3, 1)"
      ]
     },
     "execution_count": 4,
     "metadata": {},
     "output_type": "execute_result"
    }
   ],
   "source": [
    "v.shape"
   ]
  },
  {
   "cell_type": "markdown",
   "id": "1c6a4409",
   "metadata": {},
   "source": [
    "# Matrices"
   ]
  },
  {
   "cell_type": "code",
   "execution_count": 5,
   "id": "d99fdc35",
   "metadata": {},
   "outputs": [
    {
     "data": {
      "text/plain": [
       "array([[1, 2, 3],\n",
       "       [4, 5, 6],\n",
       "       [7, 8, 9]])"
      ]
     },
     "execution_count": 5,
     "metadata": {},
     "output_type": "execute_result"
    }
   ],
   "source": [
    "M = np.array([[1,2,3],[4,5,6], [7,8,9]])\n",
    "M"
   ]
  },
  {
   "cell_type": "code",
   "execution_count": 6,
   "id": "925065b3",
   "metadata": {},
   "outputs": [
    {
     "data": {
      "text/plain": [
       "(3, 3)"
      ]
     },
     "execution_count": 6,
     "metadata": {},
     "output_type": "execute_result"
    }
   ],
   "source": [
    "M.shape"
   ]
  },
  {
   "cell_type": "code",
   "execution_count": 7,
   "id": "5fcd8ce0",
   "metadata": {},
   "outputs": [
    {
     "data": {
      "text/plain": [
       "[(array([1]), array([-1])),\n",
       " (array([2]), array([-2])),\n",
       " (array([3]), array([-3]))]"
      ]
     },
     "execution_count": 7,
     "metadata": {},
     "output_type": "execute_result"
    }
   ],
   "source": [
    "#Scalar\n",
    "x=3.5\n",
    "\n",
    "#zipping\n",
    "new_matrix = list(zip(v,v2))\n",
    "new_matrix\n",
    "\n",
    "#output shows the location in memory...similar to classes"
   ]
  },
  {
   "cell_type": "code",
   "execution_count": 8,
   "id": "0e6c9074",
   "metadata": {},
   "outputs": [
    {
     "data": {
      "text/plain": [
       "list"
      ]
     },
     "execution_count": 8,
     "metadata": {},
     "output_type": "execute_result"
    }
   ],
   "source": [
    "type(new_matrix)"
   ]
  },
  {
   "cell_type": "code",
   "execution_count": 9,
   "id": "ddf230d3",
   "metadata": {},
   "outputs": [],
   "source": [
    "#dot product of a and b = ax*bx + ay*by"
   ]
  },
  {
   "cell_type": "markdown",
   "id": "163df2e1",
   "metadata": {},
   "source": [
    "# dot product\n",
    "\n",
    "We use the dot product to multiply vectors. With 2D vectors, this is the  same as matrix multiplication, and we produce a scalar value (a number, not a vector).\n",
    "\n",
    "Result tells you the degree to which the vectors interact, or the interaction between similar dimensions.\n",
    "\n",
    "Why do we care? rendering, force diagrams, solar panel tracking"
   ]
  },
  {
   "cell_type": "code",
   "execution_count": 10,
   "id": "63315480",
   "metadata": {},
   "outputs": [
    {
     "name": "stdout",
     "output_type": "stream",
     "text": [
      "[[1 2 3]]\n",
      "[[1]\n",
      " [2]\n",
      " [3]]\n"
     ]
    }
   ],
   "source": [
    "print(v.T)\n",
    "print(v)"
   ]
  },
  {
   "cell_type": "code",
   "execution_count": 11,
   "id": "9d69f7e9",
   "metadata": {},
   "outputs": [
    {
     "data": {
      "text/plain": [
       "array([[14]])"
      ]
     },
     "execution_count": 11,
     "metadata": {},
     "output_type": "execute_result"
    }
   ],
   "source": [
    "#1*1 + 2*2 + 3*3\n",
    "np.dot(v.T,v)"
   ]
  },
  {
   "cell_type": "code",
   "execution_count": 12,
   "id": "5b768aed",
   "metadata": {},
   "outputs": [
    {
     "data": {
      "text/plain": [
       "0"
      ]
     },
     "execution_count": 12,
     "metadata": {},
     "output_type": "execute_result"
    }
   ],
   "source": [
    "# use directionality(north, south, east, west) and convert that into vectors\n",
    "#directionality example\n",
    "north = np.array([0,1])\n",
    "east = np.array([1,0])\n",
    "south = np.array([0,-1])\n",
    "west= np.array([-1,0])\n",
    "\n",
    "#to what degree are the two directions the same\n",
    "np.dot(north, south)\n",
    "#what directions have nothing in common\n",
    "np.dot(north, east)"
   ]
  },
  {
   "cell_type": "code",
   "execution_count": 13,
   "id": "ceb57d8b",
   "metadata": {},
   "outputs": [
    {
     "data": {
      "text/plain": [
       "-1"
      ]
     },
     "execution_count": 13,
     "metadata": {},
     "output_type": "execute_result"
    }
   ],
   "source": [
    "#to what degree are north and south the same?\n",
    "#create an example\n",
    "np.dot(north, south)\n",
    "\n",
    "# 1 refers to them having the same x-axis and have 1 degree in common. This is the degree of similarity"
   ]
  },
  {
   "cell_type": "markdown",
   "id": "bdadb4bb",
   "metadata": {},
   "source": [
    "# Cross product \n",
    "- think of the ceiling and it being on the wall. The vector is the two corners\n",
    "\n",
    "Type of vector multiplicaton, bit it shows the interaction between different components of the vector. \n",
    "It tracks all the cross interaction between dimensions\n",
    "\n",
    "When you compute the cross product, you get a new vector that is perpendicular to both the input vectors\n",
    "\n",
    "In each part of the corss product calculation, you are leaving out an interaction. * this could be stated better\n",
    "\n",
    "Why do we care?\n",
    "Torque and the moment of force\n",
    "moment = measure of tendency to rotate about a particular point"
   ]
  },
  {
   "cell_type": "code",
   "execution_count": 14,
   "id": "eb1659e3",
   "metadata": {},
   "outputs": [
    {
     "data": {
      "text/plain": [
       "array([[0, 0, 0]])"
      ]
     },
     "execution_count": 14,
     "metadata": {},
     "output_type": "execute_result"
    }
   ],
   "source": [
    "np.cross(v,v2, axisa=0, axisb=0)\n",
    "\n",
    "#outcome is all zeroes because the values are the opposite of each other"
   ]
  },
  {
   "cell_type": "markdown",
   "id": "2068d0a4",
   "metadata": {},
   "source": [
    "# Orthogonality  \n",
    "\n",
    "Two vectors are orthoganal if they're perpendicular to eachother\n",
    "The dot product is 0 or the identity matrix\n",
    "\n",
    "Below is latex documentation\n",
    "\n",
    "$$ A \\cdot A^T = I $$\n"
   ]
  },
  {
   "cell_type": "code",
   "execution_count": 15,
   "id": "41055dbf",
   "metadata": {},
   "outputs": [
    {
     "data": {
      "text/plain": [
       "array([[1, 0, 0],\n",
       "       [0, 1, 0],\n",
       "       [0, 0, 1]])"
      ]
     },
     "execution_count": 15,
     "metadata": {},
     "output_type": "execute_result"
    }
   ],
   "source": [
    "# this is an identity matrix\n",
    "# a test for orthogonality is if the matrix and its transpose equal the identity matrix\n",
    "M = np.array([[1,0,0],\n",
    "            [0,1,0],\n",
    "            [0,0,1]])\n",
    "M"
   ]
  },
  {
   "cell_type": "code",
   "execution_count": 16,
   "id": "a82fc7e2",
   "metadata": {},
   "outputs": [
    {
     "data": {
      "text/plain": [
       "array([[1, 0, 0],\n",
       "       [0, 1, 0],\n",
       "       [0, 0, 1]])"
      ]
     },
     "execution_count": 16,
     "metadata": {},
     "output_type": "execute_result"
    }
   ],
   "source": [
    "np.dot(M, M.T)"
   ]
  },
  {
   "cell_type": "code",
   "execution_count": 17,
   "id": "b73378e2",
   "metadata": {},
   "outputs": [
    {
     "data": {
      "text/plain": [
       "array([[ 14,  32,  50],\n",
       "       [ 32,  77, 122],\n",
       "       [ 50, 122, 194]])"
      ]
     },
     "execution_count": 17,
     "metadata": {},
     "output_type": "execute_result"
    }
   ],
   "source": [
    "# this is not orthogonal since the diagnal isn't 1\n",
    "#doesnt produce an identity matrix, and therefore is not orthogonal\n",
    "M = np.array([[1,2,3],[4,5,6],[7,8,9]])\n",
    "np.dot(M,M.T)"
   ]
  },
  {
   "cell_type": "markdown",
   "id": "d430c96f",
   "metadata": {},
   "source": [
    "Shift+tab in an open paranthesis gives you the info about a function"
   ]
  },
  {
   "cell_type": "code",
   "execution_count": null,
   "id": "bd964b45",
   "metadata": {},
   "outputs": [],
   "source": []
  }
 ],
 "metadata": {
  "interpreter": {
   "hash": "aee8b7b246df8f9039afb4144a1f6fd8d2ca17a180786b69acc140d282b71a49"
  },
  "kernelspec": {
   "display_name": "Python 3 (ipykernel)",
   "language": "python",
   "name": "python3"
  },
  "language_info": {
   "codemirror_mode": {
    "name": "ipython",
    "version": 3
   },
   "file_extension": ".py",
   "mimetype": "text/x-python",
   "name": "python",
   "nbconvert_exporter": "python",
   "pygments_lexer": "ipython3",
   "version": "3.9.6"
  }
 },
 "nbformat": 4,
 "nbformat_minor": 5
}

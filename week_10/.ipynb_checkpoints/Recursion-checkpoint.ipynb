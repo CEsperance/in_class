{
 "cells": [
  {
   "cell_type": "markdown",
   "id": "811d87f3",
   "metadata": {},
   "source": [
    "Recursion = when a function calls itself\n",
    "\n",
    "recursion is memory intensive\n",
    "SQL handles recursion very well"
   ]
  },
  {
   "cell_type": "code",
   "execution_count": 1,
   "id": "466fc01c",
   "metadata": {},
   "outputs": [],
   "source": [
    "def countdown(n):\n",
    "    #first print 2\n",
    "    print(n)\n",
    "    #count backwards from n until we get to 0\n",
    "    if n>0:\n",
    "        #stuff\n",
    "        countdown(n-1)\n",
    "    else:\n",
    "        return #stopping condition - terminates the recursion"
   ]
  },
  {
   "cell_type": "code",
   "execution_count": 2,
   "id": "d5e5c84b",
   "metadata": {},
   "outputs": [
    {
     "name": "stdout",
     "output_type": "stream",
     "text": [
      "2\n",
      "1\n",
      "0\n"
     ]
    }
   ],
   "source": [
    "countdown(2)"
   ]
  },
  {
   "cell_type": "code",
   "execution_count": 3,
   "id": "3eecfbe9",
   "metadata": {},
   "outputs": [],
   "source": [
    "def countdown(n):\n",
    "    #count backwards from n until we get to 0\n",
    "    if n>0:\n",
    "        #stuff\n",
    "        countdown(n-1)\n",
    "    else:\n",
    "        return #stopping condition - terminates the recursion\n",
    "    print(n)"
   ]
  },
  {
   "cell_type": "code",
   "execution_count": 4,
   "id": "33bb1a90",
   "metadata": {},
   "outputs": [
    {
     "name": "stdout",
     "output_type": "stream",
     "text": [
      "1\n",
      "2\n"
     ]
    }
   ],
   "source": [
    "countdown(2)"
   ]
  },
  {
   "cell_type": "code",
   "execution_count": 5,
   "id": "3142318b",
   "metadata": {},
   "outputs": [],
   "source": [
    "def countdown(n):\n",
    "    #count backwards from n until we get to 0\n",
    "    if n>0:\n",
    "        #stuff\n",
    "        countdown(n-1)\n",
    "        # if you print after the call function again, it has to almost unwind until it gets to the stopping\n",
    "        #condition\n",
    "        #last in, first out\n",
    "        print(n)\n",
    "    else:\n",
    "        return #stopping condition - terminates the recursion   "
   ]
  },
  {
   "cell_type": "code",
   "execution_count": 6,
   "id": "18d2f324",
   "metadata": {},
   "outputs": [
    {
     "name": "stdout",
     "output_type": "stream",
     "text": [
      "1\n",
      "2\n"
     ]
    }
   ],
   "source": [
    "countdown(2)"
   ]
  },
  {
   "cell_type": "code",
   "execution_count": 14,
   "id": "9fb92f77",
   "metadata": {},
   "outputs": [],
   "source": [
    "import numpy as np\n",
    "import math\n",
    "\n",
    "t = [1,2]\n",
    "u = [3,4]\n",
    "\n",
    "def dotprod(v,w):\n",
    "    if len(v)<len(w):\n",
    "        r = len(v)\n",
    "    else:\n",
    "        r = len(w)\n",
    "        \n",
    "    dot = 0\n",
    "    for i in range(r):\n",
    "        dot = dot + v[i]*w[i]\n",
    "    print(dot)   "
   ]
  },
  {
   "cell_type": "code",
   "execution_count": 16,
   "id": "a7b9b94d",
   "metadata": {},
   "outputs": [
    {
     "name": "stdout",
     "output_type": "stream",
     "text": [
      "0\n"
     ]
    }
   ],
   "source": [
    "t = [2,4,6,8,10]\n",
    "u = [5,2,-3]\n",
    "\n",
    "dotprod(t,u)"
   ]
  },
  {
   "cell_type": "code",
   "execution_count": 17,
   "id": "eb6fa7ff",
   "metadata": {},
   "outputs": [],
   "source": [
    "import numpy as np\n",
    "import math\n",
    "\n",
    "t = [1,2]\n",
    "u = [3,4]\n",
    "\n",
    "def dotprod(v,w):\n",
    "    try:\n",
    "        if len(v)<len(w):\n",
    "            r = len(v)\n",
    "        else:\n",
    "            r = len(w)\n",
    "\n",
    "        dot = 0\n",
    "        for i in range(r):\n",
    "            dot = dot + v[i]*w[i]\n",
    "        print(dot)\n",
    "    except Exception as e:\n",
    "        print(e)"
   ]
  },
  {
   "cell_type": "code",
   "execution_count": 18,
   "id": "6f627b92",
   "metadata": {},
   "outputs": [
    {
     "name": "stdout",
     "output_type": "stream",
     "text": [
      "0\n"
     ]
    }
   ],
   "source": [
    "t = [2,4,6,8,10]\n",
    "u = [5,2,-3]\n",
    "\n",
    "dotprod(t,u)"
   ]
  },
  {
   "cell_type": "code",
   "execution_count": null,
   "id": "cf0674f6",
   "metadata": {},
   "outputs": [],
   "source": []
  }
 ],
 "metadata": {
  "kernelspec": {
   "display_name": "Python 3 (ipykernel)",
   "language": "python",
   "name": "python3"
  },
  "language_info": {
   "codemirror_mode": {
    "name": "ipython",
    "version": 3
   },
   "file_extension": ".py",
   "mimetype": "text/x-python",
   "name": "python",
   "nbconvert_exporter": "python",
   "pygments_lexer": "ipython3",
   "version": "3.9.6"
  }
 },
 "nbformat": 4,
 "nbformat_minor": 5
}

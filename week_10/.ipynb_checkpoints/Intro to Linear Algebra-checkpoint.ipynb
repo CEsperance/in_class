{
 "cells": [
  {
   "cell_type": "markdown",
   "id": "28c6f38e",
   "metadata": {},
   "source": [
    "#  Vectors "
   ]
  },
  {
   "cell_type": "code",
   "execution_count": 8,
   "id": "08cdb8b0",
   "metadata": {},
   "outputs": [
    {
     "name": "stdout",
     "output_type": "stream",
     "text": [
      "[[1]\n",
      " [2]\n",
      " [3]]\n"
     ]
    }
   ],
   "source": [
    "import numpy as np\n",
    "v = np.array([[1], [2], [3]])\n",
    "v2 = np.array([[-1], [-2], [-3]])\n",
    "print(v)"
   ]
  },
  {
   "cell_type": "code",
   "execution_count": 3,
   "id": "0f2a1956",
   "metadata": {},
   "outputs": [
    {
     "name": "stdout",
     "output_type": "stream",
     "text": [
      "[[1 2 3]]\n"
     ]
    }
   ],
   "source": [
    "print(v.T) # transpose"
   ]
  },
  {
   "cell_type": "code",
   "execution_count": 4,
   "id": "38bd7e19",
   "metadata": {},
   "outputs": [
    {
     "data": {
      "text/plain": [
       "(3, 1)"
      ]
     },
     "execution_count": 4,
     "metadata": {},
     "output_type": "execute_result"
    }
   ],
   "source": [
    "v.shape"
   ]
  },
  {
   "cell_type": "markdown",
   "id": "518afe8a",
   "metadata": {},
   "source": [
    "# Matrices"
   ]
  },
  {
   "cell_type": "code",
   "execution_count": 6,
   "id": "1e0786e0",
   "metadata": {},
   "outputs": [
    {
     "data": {
      "text/plain": [
       "array([[1, 2, 3],\n",
       "       [4, 5, 6],\n",
       "       [7, 8, 9]])"
      ]
     },
     "execution_count": 6,
     "metadata": {},
     "output_type": "execute_result"
    }
   ],
   "source": [
    "M = np.array([[1,2,3],[4,5,6], [7,8,9]])\n",
    "M"
   ]
  },
  {
   "cell_type": "code",
   "execution_count": 7,
   "id": "f0165f05",
   "metadata": {},
   "outputs": [
    {
     "data": {
      "text/plain": [
       "(3, 3)"
      ]
     },
     "execution_count": 7,
     "metadata": {},
     "output_type": "execute_result"
    }
   ],
   "source": [
    "M.shape"
   ]
  },
  {
   "cell_type": "code",
   "execution_count": 10,
   "id": "75c6efe2",
   "metadata": {},
   "outputs": [
    {
     "data": {
      "text/plain": [
       "[(array([1]), array([-1])),\n",
       " (array([2]), array([-2])),\n",
       " (array([3]), array([-3]))]"
      ]
     },
     "execution_count": 10,
     "metadata": {},
     "output_type": "execute_result"
    }
   ],
   "source": [
    "#Scalar\n",
    "x=3.5\n",
    "\n",
    "#zipping\n",
    "new_matrix = list(zip(v,v2))\n",
    "new_matrix\n",
    "\n",
    "#output shows the location in memory...similar to classes"
   ]
  },
  {
   "cell_type": "code",
   "execution_count": 11,
   "id": "cb414fe1",
   "metadata": {},
   "outputs": [
    {
     "data": {
      "text/plain": [
       "list"
      ]
     },
     "execution_count": 11,
     "metadata": {},
     "output_type": "execute_result"
    }
   ],
   "source": [
    "type(new_matrix)"
   ]
  },
  {
   "cell_type": "code",
   "execution_count": 12,
   "id": "b9a03fbd",
   "metadata": {},
   "outputs": [],
   "source": [
    "#dot product of a and b = ax*bx + ay*by"
   ]
  },
  {
   "cell_type": "markdown",
   "id": "f904674d",
   "metadata": {},
   "source": [
    "# dot product\n",
    "\n",
    "We use the dot product to multiply vectors. With 2D vectors, this is the  same as matrix multiplication, and we produce a scalar value (a number, not a vector).\n",
    "\n",
    "Result tells you the degree to which the vectors interact, or the interaction between similar dimensions.\n",
    "\n",
    "Why do we care? rendering, force diagrams, solar panel tracking"
   ]
  },
  {
   "cell_type": "code",
   "execution_count": 13,
   "id": "f7e45d9f",
   "metadata": {},
   "outputs": [
    {
     "name": "stdout",
     "output_type": "stream",
     "text": [
      "[[1 2 3]]\n",
      "[[1]\n",
      " [2]\n",
      " [3]]\n"
     ]
    }
   ],
   "source": [
    "print(v.T)\n",
    "print(v)"
   ]
  },
  {
   "cell_type": "code",
   "execution_count": 15,
   "id": "ef3ec6b3",
   "metadata": {},
   "outputs": [
    {
     "data": {
      "text/plain": [
       "array([[14]])"
      ]
     },
     "execution_count": 15,
     "metadata": {},
     "output_type": "execute_result"
    }
   ],
   "source": [
    "#1*1 + 2*2 + 3*3\n",
    "np.dot(v.T,v)"
   ]
  },
  {
   "cell_type": "code",
   "execution_count": 17,
   "id": "e0b8016f",
   "metadata": {},
   "outputs": [
    {
     "data": {
      "text/plain": [
       "0"
      ]
     },
     "execution_count": 17,
     "metadata": {},
     "output_type": "execute_result"
    }
   ],
   "source": [
    "# use directionality(north, south, east, west) and convert that into vectors\n",
    "#directionality example\n",
    "north = np.array([0,1])\n",
    "east = np.array([1,0])\n",
    "south = np.array([0,-1])\n",
    "west= np.array([-1,0])\n",
    "\n",
    "#to what degree are the two directions the same\n",
    "np.dot(north, south)\n",
    "#what directions have nothing in common\n",
    "np.dot(north, east)"
   ]
  },
  {
   "cell_type": "code",
   "execution_count": 18,
   "id": "002ef2b4",
   "metadata": {},
   "outputs": [
    {
     "data": {
      "text/plain": [
       "-1"
      ]
     },
     "execution_count": 18,
     "metadata": {},
     "output_type": "execute_result"
    }
   ],
   "source": [
    "#to what degree are north and south the same?\n",
    "#create an example\n",
    "np.dot(north, south)\n",
    "\n",
    "# 1 refers to them having the same x-axis and have 1 degree in common. This is the degree of similarity"
   ]
  },
  {
   "cell_type": "markdown",
   "id": "d5ab7657",
   "metadata": {},
   "source": [
    "# Cross product \n",
    "- think of the ceiling and it being on the wall. The vector is the two corners\n",
    "\n",
    "Type of vector multiplicaton, bit it shows the interaction between different components of the vector. \n",
    "It tracks all the cross interaction between dimensions\n",
    "\n",
    "When you compute the cross product, you get a new vector that is perpendicular to both the input vectors\n",
    "\n",
    "In each part of the corss product calculation, you are leaving out an interaction. * this could be stated better\n",
    "\n",
    "Why do we care?\n",
    "Torque and the moment of force\n",
    "moment = measure of tendency to rotate about a particular point"
   ]
  },
  {
   "cell_type": "code",
   "execution_count": 19,
   "id": "5c2090b8",
   "metadata": {},
   "outputs": [
    {
     "data": {
      "text/plain": [
       "array([[0, 0, 0]])"
      ]
     },
     "execution_count": 19,
     "metadata": {},
     "output_type": "execute_result"
    }
   ],
   "source": [
    "np.cross(v,v2, axisa=0, axisb=0)\n",
    "\n",
    "#outcome is all zeroes because the values are the opposite of each other"
   ]
  },
  {
   "cell_type": "markdown",
   "id": "c812ca55",
   "metadata": {},
   "source": [
    "# Orthogonality  \n",
    "\n",
    "Two vectors are orthoganal if they're perpendicular to eachother\n",
    "The dot product is 0 or the identity matrix\n",
    "\n",
    "Below is latex documentation\n",
    "\n",
    "$$ A \\cdot A^T = I $$\n"
   ]
  },
  {
   "cell_type": "code",
   "execution_count": 21,
   "id": "46d3fa48",
   "metadata": {},
   "outputs": [
    {
     "data": {
      "text/plain": [
       "array([[1, 0, 0],\n",
       "       [0, 1, 0],\n",
       "       [0, 0, 1]])"
      ]
     },
     "execution_count": 21,
     "metadata": {},
     "output_type": "execute_result"
    }
   ],
   "source": [
    "# this is an identity matrix\n",
    "# a test for orthogonality is  if the matrix and its transpose equal the identyt matrix\n",
    "M = np.array([[1,0,0],\n",
    "            [0,1,0],\n",
    "            [0,0,1]])\n",
    "M"
   ]
  },
  {
   "cell_type": "code",
   "execution_count": 22,
   "id": "39a497f1",
   "metadata": {},
   "outputs": [
    {
     "data": {
      "text/plain": [
       "array([[1, 0, 0],\n",
       "       [0, 1, 0],\n",
       "       [0, 0, 1]])"
      ]
     },
     "execution_count": 22,
     "metadata": {},
     "output_type": "execute_result"
    }
   ],
   "source": [
    "np.dot(M, M.T)"
   ]
  },
  {
   "cell_type": "code",
   "execution_count": 23,
   "id": "e2098f1b",
   "metadata": {},
   "outputs": [
    {
     "data": {
      "text/plain": [
       "array([[ 14,  32,  50],\n",
       "       [ 32,  77, 122],\n",
       "       [ 50, 122, 194]])"
      ]
     },
     "execution_count": 23,
     "metadata": {},
     "output_type": "execute_result"
    }
   ],
   "source": [
    "# this is not orthogonal since the diagnal isn't 1\n",
    "M =np.array([[1,2,3], [4,5,6],[7,8,9]])\n",
    "np.dot(M, M.T)"
   ]
  },
  {
   "cell_type": "code",
   "execution_count": null,
   "id": "70c12dcc",
   "metadata": {},
   "outputs": [],
   "source": [
    "# create another matric that is orthogonal\n",
    "M= np.array([[]])\n"
   ]
  },
  {
   "cell_type": "markdown",
   "id": "173adabd",
   "metadata": {},
   "source": [
    "Shift+tab in an open paranthesis gives you the info about a function"
   ]
  },
  {
   "cell_type": "code",
   "execution_count": null,
   "id": "252bef3a",
   "metadata": {},
   "outputs": [],
   "source": []
  }
 ],
 "metadata": {
  "kernelspec": {
   "display_name": "Python 3 (ipykernel)",
   "language": "python",
   "name": "python3"
  },
  "language_info": {
   "codemirror_mode": {
    "name": "ipython",
    "version": 3
   },
   "file_extension": ".py",
   "mimetype": "text/x-python",
   "name": "python",
   "nbconvert_exporter": "python",
   "pygments_lexer": "ipython3",
   "version": "3.9.6"
  }
 },
 "nbformat": 4,
 "nbformat_minor": 5
}

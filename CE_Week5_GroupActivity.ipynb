{
 "cells": [
  {
   "cell_type": "code",
   "execution_count": 24,
   "id": "57d03ced",
   "metadata": {},
   "outputs": [
    {
     "data": {
      "text/plain": [
       "95430"
      ]
     },
     "execution_count": 24,
     "metadata": {},
     "output_type": "execute_result"
    }
   ],
   "source": [
    "digits = [43905]\n",
    "\n",
    "string_digits = str(digits)\n",
    "string_digits\n",
    "\n",
    "def digits(numbers):\n",
    "    #if numbers > 0\n",
    "    num = str(numbers)\n",
    "    num = list(num)\n",
    "    num.sort(reverse=True)\n",
    "    num = ''.join(num)\n",
    "    \n",
    "    number = int(num)\n",
    "    return number\n",
    "   \n",
    "digits(43905)\n"
   ]
  },
  {
   "cell_type": "code",
   "execution_count": 86,
   "id": "9962cb8c",
   "metadata": {},
   "outputs": [
    {
     "data": {
      "text/html": [
       "<div>\n",
       "<style scoped>\n",
       "    .dataframe tbody tr th:only-of-type {\n",
       "        vertical-align: middle;\n",
       "    }\n",
       "\n",
       "    .dataframe tbody tr th {\n",
       "        vertical-align: top;\n",
       "    }\n",
       "\n",
       "    .dataframe thead th {\n",
       "        text-align: right;\n",
       "    }\n",
       "</style>\n",
       "<table border=\"1\" class=\"dataframe\">\n",
       "  <thead>\n",
       "    <tr style=\"text-align: right;\">\n",
       "      <th></th>\n",
       "      <th>Show Number</th>\n",
       "      <th>Air Date</th>\n",
       "      <th>Round</th>\n",
       "      <th>Category</th>\n",
       "      <th>Value</th>\n",
       "      <th>Question</th>\n",
       "      <th>Answer</th>\n",
       "    </tr>\n",
       "  </thead>\n",
       "  <tbody>\n",
       "    <tr>\n",
       "      <th>0</th>\n",
       "      <td>4680</td>\n",
       "      <td>12/31/2004</td>\n",
       "      <td>Jeopardy!</td>\n",
       "      <td>HISTORY</td>\n",
       "      <td>$200</td>\n",
       "      <td>For the last 8 years of his life, Galileo was ...</td>\n",
       "      <td>Copernicus</td>\n",
       "    </tr>\n",
       "    <tr>\n",
       "      <th>1</th>\n",
       "      <td>4680</td>\n",
       "      <td>12/31/2004</td>\n",
       "      <td>Jeopardy!</td>\n",
       "      <td>ESPN's TOP 10 ALL-TIME ATHLETES</td>\n",
       "      <td>$200</td>\n",
       "      <td>No. 2: 1912 Olympian; football star at Carlisl...</td>\n",
       "      <td>Jim Thorpe</td>\n",
       "    </tr>\n",
       "    <tr>\n",
       "      <th>2</th>\n",
       "      <td>4680</td>\n",
       "      <td>12/31/2004</td>\n",
       "      <td>Jeopardy!</td>\n",
       "      <td>EVERYBODY TALKS ABOUT IT...</td>\n",
       "      <td>$200</td>\n",
       "      <td>The city of Yuma in this state has a record av...</td>\n",
       "      <td>Arizona</td>\n",
       "    </tr>\n",
       "    <tr>\n",
       "      <th>3</th>\n",
       "      <td>4680</td>\n",
       "      <td>12/31/2004</td>\n",
       "      <td>Jeopardy!</td>\n",
       "      <td>THE COMPANY LINE</td>\n",
       "      <td>$200</td>\n",
       "      <td>In 1963, live on \"The Art Linkletter Show\", th...</td>\n",
       "      <td>McDonald's</td>\n",
       "    </tr>\n",
       "    <tr>\n",
       "      <th>4</th>\n",
       "      <td>4680</td>\n",
       "      <td>12/31/2004</td>\n",
       "      <td>Jeopardy!</td>\n",
       "      <td>EPITAPHS &amp; TRIBUTES</td>\n",
       "      <td>$200</td>\n",
       "      <td>Signer of the Dec. of Indep., framer of the Co...</td>\n",
       "      <td>John Adams</td>\n",
       "    </tr>\n",
       "    <tr>\n",
       "      <th>5</th>\n",
       "      <td>4680</td>\n",
       "      <td>12/31/2004</td>\n",
       "      <td>Jeopardy!</td>\n",
       "      <td>3-LETTER WORDS</td>\n",
       "      <td>$200</td>\n",
       "      <td>In the title of an Aesop fable, this insect sh...</td>\n",
       "      <td>the ant</td>\n",
       "    </tr>\n",
       "    <tr>\n",
       "      <th>6</th>\n",
       "      <td>4680</td>\n",
       "      <td>12/31/2004</td>\n",
       "      <td>Jeopardy!</td>\n",
       "      <td>HISTORY</td>\n",
       "      <td>$400</td>\n",
       "      <td>Built in 312 B.C. to link Rome &amp; the South of ...</td>\n",
       "      <td>the Appian Way</td>\n",
       "    </tr>\n",
       "    <tr>\n",
       "      <th>7</th>\n",
       "      <td>4680</td>\n",
       "      <td>12/31/2004</td>\n",
       "      <td>Jeopardy!</td>\n",
       "      <td>ESPN's TOP 10 ALL-TIME ATHLETES</td>\n",
       "      <td>$400</td>\n",
       "      <td>No. 8: 30 steals for the Birmingham Barons; 2,...</td>\n",
       "      <td>Michael Jordan</td>\n",
       "    </tr>\n",
       "    <tr>\n",
       "      <th>8</th>\n",
       "      <td>4680</td>\n",
       "      <td>12/31/2004</td>\n",
       "      <td>Jeopardy!</td>\n",
       "      <td>EVERYBODY TALKS ABOUT IT...</td>\n",
       "      <td>$400</td>\n",
       "      <td>In the winter of 1971-72, a record 1,122 inche...</td>\n",
       "      <td>Washington</td>\n",
       "    </tr>\n",
       "    <tr>\n",
       "      <th>9</th>\n",
       "      <td>4680</td>\n",
       "      <td>12/31/2004</td>\n",
       "      <td>Jeopardy!</td>\n",
       "      <td>THE COMPANY LINE</td>\n",
       "      <td>$400</td>\n",
       "      <td>This housewares store was named for the packag...</td>\n",
       "      <td>Crate &amp; Barrel</td>\n",
       "    </tr>\n",
       "    <tr>\n",
       "      <th>10</th>\n",
       "      <td>4680</td>\n",
       "      <td>12/31/2004</td>\n",
       "      <td>Jeopardy!</td>\n",
       "      <td>EPITAPHS &amp; TRIBUTES</td>\n",
       "      <td>$400</td>\n",
       "      <td>\"And away we go\"</td>\n",
       "      <td>Jackie Gleason</td>\n",
       "    </tr>\n",
       "    <tr>\n",
       "      <th>11</th>\n",
       "      <td>4680</td>\n",
       "      <td>12/31/2004</td>\n",
       "      <td>Jeopardy!</td>\n",
       "      <td>3-LETTER WORDS</td>\n",
       "      <td>$400</td>\n",
       "      <td>Cows regurgitate this from the first stomach t...</td>\n",
       "      <td>the cud</td>\n",
       "    </tr>\n",
       "    <tr>\n",
       "      <th>12</th>\n",
       "      <td>4680</td>\n",
       "      <td>12/31/2004</td>\n",
       "      <td>Jeopardy!</td>\n",
       "      <td>HISTORY</td>\n",
       "      <td>$600</td>\n",
       "      <td>In 1000 Rajaraja I of the Cholas battled to ta...</td>\n",
       "      <td>Ceylon (or Sri Lanka)</td>\n",
       "    </tr>\n",
       "    <tr>\n",
       "      <th>13</th>\n",
       "      <td>4680</td>\n",
       "      <td>12/31/2004</td>\n",
       "      <td>Jeopardy!</td>\n",
       "      <td>ESPN's TOP 10 ALL-TIME ATHLETES</td>\n",
       "      <td>$600</td>\n",
       "      <td>No. 1: Lettered in hoops, football &amp; lacrosse ...</td>\n",
       "      <td>Jim Brown</td>\n",
       "    </tr>\n",
       "    <tr>\n",
       "      <th>14</th>\n",
       "      <td>4680</td>\n",
       "      <td>12/31/2004</td>\n",
       "      <td>Jeopardy!</td>\n",
       "      <td>EVERYBODY TALKS ABOUT IT...</td>\n",
       "      <td>$600</td>\n",
       "      <td>On June 28, 1994 the nat'l weather service beg...</td>\n",
       "      <td>the UV index</td>\n",
       "    </tr>\n",
       "  </tbody>\n",
       "</table>\n",
       "</div>"
      ],
      "text/plain": [
       "    Show Number    Air Date      Round                         Category  \\\n",
       "0          4680  12/31/2004  Jeopardy!                          HISTORY   \n",
       "1          4680  12/31/2004  Jeopardy!  ESPN's TOP 10 ALL-TIME ATHLETES   \n",
       "2          4680  12/31/2004  Jeopardy!      EVERYBODY TALKS ABOUT IT...   \n",
       "3          4680  12/31/2004  Jeopardy!                 THE COMPANY LINE   \n",
       "4          4680  12/31/2004  Jeopardy!              EPITAPHS & TRIBUTES   \n",
       "5          4680  12/31/2004  Jeopardy!                   3-LETTER WORDS   \n",
       "6          4680  12/31/2004  Jeopardy!                          HISTORY   \n",
       "7          4680  12/31/2004  Jeopardy!  ESPN's TOP 10 ALL-TIME ATHLETES   \n",
       "8          4680  12/31/2004  Jeopardy!      EVERYBODY TALKS ABOUT IT...   \n",
       "9          4680  12/31/2004  Jeopardy!                 THE COMPANY LINE   \n",
       "10         4680  12/31/2004  Jeopardy!              EPITAPHS & TRIBUTES   \n",
       "11         4680  12/31/2004  Jeopardy!                   3-LETTER WORDS   \n",
       "12         4680  12/31/2004  Jeopardy!                          HISTORY   \n",
       "13         4680  12/31/2004  Jeopardy!  ESPN's TOP 10 ALL-TIME ATHLETES   \n",
       "14         4680  12/31/2004  Jeopardy!      EVERYBODY TALKS ABOUT IT...   \n",
       "\n",
       "    Value                                           Question  \\\n",
       "0   $200   For the last 8 years of his life, Galileo was ...   \n",
       "1   $200   No. 2: 1912 Olympian; football star at Carlisl...   \n",
       "2   $200   The city of Yuma in this state has a record av...   \n",
       "3   $200   In 1963, live on \"The Art Linkletter Show\", th...   \n",
       "4   $200   Signer of the Dec. of Indep., framer of the Co...   \n",
       "5   $200   In the title of an Aesop fable, this insect sh...   \n",
       "6   $400   Built in 312 B.C. to link Rome & the South of ...   \n",
       "7   $400   No. 8: 30 steals for the Birmingham Barons; 2,...   \n",
       "8   $400   In the winter of 1971-72, a record 1,122 inche...   \n",
       "9   $400   This housewares store was named for the packag...   \n",
       "10  $400                                    \"And away we go\"   \n",
       "11  $400   Cows regurgitate this from the first stomach t...   \n",
       "12  $600   In 1000 Rajaraja I of the Cholas battled to ta...   \n",
       "13  $600   No. 1: Lettered in hoops, football & lacrosse ...   \n",
       "14  $600   On June 28, 1994 the nat'l weather service beg...   \n",
       "\n",
       "                   Answer  \n",
       "0              Copernicus  \n",
       "1              Jim Thorpe  \n",
       "2                 Arizona  \n",
       "3              McDonald's  \n",
       "4              John Adams  \n",
       "5                 the ant  \n",
       "6          the Appian Way  \n",
       "7          Michael Jordan  \n",
       "8              Washington  \n",
       "9          Crate & Barrel  \n",
       "10         Jackie Gleason  \n",
       "11                the cud  \n",
       "12  Ceylon (or Sri Lanka)  \n",
       "13              Jim Brown  \n",
       "14           the UV index  "
      ]
     },
     "execution_count": 86,
     "metadata": {},
     "output_type": "execute_result"
    }
   ],
   "source": [
    "import pandas as pd\n",
    "data = \"JEOPARDY_CSV.csv\"\n",
    "jeopardy_df = pd.read_csv(data)\n",
    "jeopardy_df.head(15)"
   ]
  },
  {
   "cell_type": "markdown",
   "id": "4ef5728d",
   "metadata": {},
   "source": [
    "How many rows are there in the dataframe? What does a row represent?"
   ]
  },
  {
   "cell_type": "code",
   "execution_count": 19,
   "id": "c51e1ad6",
   "metadata": {},
   "outputs": [
    {
     "data": {
      "text/plain": [
       "RangeIndex(start=0, stop=216930, step=1)"
      ]
     },
     "execution_count": 19,
     "metadata": {},
     "output_type": "execute_result"
    }
   ],
   "source": [
    "jeopardy_df.index\n",
    "# There are 216,930 rows in the dataframe and they represent the row index\n",
    " "
   ]
  },
  {
   "cell_type": "markdown",
   "id": "680c2462",
   "metadata": {},
   "source": [
    "How many unique shows were there each year?"
   ]
  },
  {
   "cell_type": "code",
   "execution_count": 58,
   "id": "7d91adca",
   "metadata": {},
   "outputs": [
    {
     "name": "stdout",
     "output_type": "stream",
     "text": [
      "3640\n"
     ]
    }
   ],
   "source": [
    "diff_shows = len(jeopardy_df[\"Show Number\"].unique())\n",
    "print(diff_shows)\n",
    "\n",
    "#There were 3,640 unique shows each year"
   ]
  },
  {
   "cell_type": "markdown",
   "id": "a7f08b91",
   "metadata": {},
   "source": [
    "# How many unique categories are in the dataframe?"
   ]
  },
  {
   "cell_type": "code",
   "execution_count": 161,
   "id": "fabc639c",
   "metadata": {},
   "outputs": [
    {
     "data": {
      "text/plain": [
       "Index(['Show Number', ' Air Date', ' Round', ' Category', ' Value',\n",
       "       ' Question', ' Answer'],\n",
       "      dtype='object')"
      ]
     },
     "execution_count": 161,
     "metadata": {},
     "output_type": "execute_result"
    }
   ],
   "source": [
    "jeopardy_df.columns"
   ]
  },
  {
   "cell_type": "code",
   "execution_count": 102,
   "id": "0d6850b6",
   "metadata": {},
   "outputs": [
    {
     "name": "stdout",
     "output_type": "stream",
     "text": [
      "['HISTORY' \"ESPN's TOP 10 ALL-TIME ATHLETES\" 'EVERYBODY TALKS ABOUT IT...'\n",
      " ... 'OFF-BROADWAY' 'RIDDLE ME THIS' 'AUTHORS IN THEIR YOUTH']\n",
      "27983\n"
     ]
    }
   ],
   "source": [
    "diff_cat = jeopardy_df[' Category'].unique()\n",
    "print(diff_cat)\n",
    "diff_cat = len(jeopardy_df[' Category'].unique())\n",
    "print(diff_cat)\n",
    "\n",
    "#There are 27,983 different categories"
   ]
  }
 ],
 "metadata": {
  "kernelspec": {
   "display_name": "Python 3 (ipykernel)",
   "language": "python",
   "name": "python3"
  },
  "language_info": {
   "codemirror_mode": {
    "name": "ipython",
    "version": 3
   },
   "file_extension": ".py",
   "mimetype": "text/x-python",
   "name": "python",
   "nbconvert_exporter": "python",
   "pygments_lexer": "ipython3",
   "version": "3.9.6"
  }
 },
 "nbformat": 4,
 "nbformat_minor": 5
}

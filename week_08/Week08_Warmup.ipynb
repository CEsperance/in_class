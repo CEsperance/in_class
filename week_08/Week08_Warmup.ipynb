{
 "cells": [
  {
   "cell_type": "code",
   "execution_count": 1,
   "id": "6cf4ae75",
   "metadata": {},
   "outputs": [
    {
     "name": "stdout",
     "output_type": "stream",
     "text": [
      "21\n"
     ]
    }
   ],
   "source": [
    "#Write a function that accepts three numbers and returns the max\n",
    "\n",
    "def max_num(n1, n2, n3):\n",
    "    if n1 >= n2 and n1 >= n3:\n",
    "        maximum = n1\n",
    "    elif n2 >= n1 and n2 >= n3:\n",
    "        maximum = n2\n",
    "    else:\n",
    "        maximum = n3\n",
    "        \n",
    "    return maximum\n",
    "\n",
    "n1 = 12\n",
    "n2 = 7\n",
    "n3 = 21\n",
    "\n",
    "print(max_num(n1, n2, n3))"
   ]
  },
  {
   "cell_type": "code",
   "execution_count": 2,
   "id": "e6a4dd16",
   "metadata": {},
   "outputs": [
    {
     "data": {
      "text/plain": [
       "21"
      ]
     },
     "execution_count": 2,
     "metadata": {},
     "output_type": "execute_result"
    }
   ],
   "source": [
    "# Function that accepts three numbers\n",
    "def max_num(n1, n2, n3):\n",
    "# find the max\n",
    "    m = max(n1, n2, n3)\n",
    "    return m\n",
    "max_num(12, 7, 21) "
   ]
  },
  {
   "cell_type": "code",
   "execution_count": null,
   "id": "9fdc99e8",
   "metadata": {},
   "outputs": [],
   "source": []
  }
 ],
 "metadata": {
  "kernelspec": {
   "display_name": "Python 3 (ipykernel)",
   "language": "python",
   "name": "python3"
  },
  "language_info": {
   "codemirror_mode": {
    "name": "ipython",
    "version": 3
   },
   "file_extension": ".py",
   "mimetype": "text/x-python",
   "name": "python",
   "nbconvert_exporter": "python",
   "pygments_lexer": "ipython3",
   "version": "3.9.6"
  }
 },
 "nbformat": 4,
 "nbformat_minor": 5
}

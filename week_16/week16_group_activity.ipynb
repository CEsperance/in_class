{
 "cells": [
  {
   "cell_type": "markdown",
   "id": "b7dd626f",
   "metadata": {},
   "source": [
    "**1. Work to improve the model performance for the diabetes decision tree we created in class. You should be able to improve the precision and recall to be above .8 and .7 respectively. You can improve the preprocessing OR alter the model itself.**"
   ]
  },
  {
   "cell_type": "code",
   "execution_count": 1,
   "id": "96348f8c",
   "metadata": {},
   "outputs": [],
   "source": [
    "import pandas as pd\n",
    "#import the decision tree classifier\n",
    "from sklearn import tree\n",
    "from sklearn.metrics import classification_report, plot_confusion_matrix\n",
    "import pydotplus\n",
    "import matplotlib.pyplot as plt\n",
    "#import this model to import decision tree\n",
    "from IPython.display import Image"
   ]
  },
  {
   "cell_type": "code",
   "execution_count": 2,
   "id": "00393f5e",
   "metadata": {
    "scrolled": true
   },
   "outputs": [
    {
     "data": {
      "text/html": [
       "<div>\n",
       "<style scoped>\n",
       "    .dataframe tbody tr th:only-of-type {\n",
       "        vertical-align: middle;\n",
       "    }\n",
       "\n",
       "    .dataframe tbody tr th {\n",
       "        vertical-align: top;\n",
       "    }\n",
       "\n",
       "    .dataframe thead th {\n",
       "        text-align: right;\n",
       "    }\n",
       "</style>\n",
       "<table border=\"1\" class=\"dataframe\">\n",
       "  <thead>\n",
       "    <tr style=\"text-align: right;\">\n",
       "      <th></th>\n",
       "      <th>Pregnancies</th>\n",
       "      <th>Glucose</th>\n",
       "      <th>BloodPressure</th>\n",
       "      <th>SkinThickness</th>\n",
       "      <th>Insulin</th>\n",
       "      <th>BMI</th>\n",
       "      <th>DiabetesPedigreeFunction</th>\n",
       "      <th>Age</th>\n",
       "      <th>Outcome</th>\n",
       "    </tr>\n",
       "  </thead>\n",
       "  <tbody>\n",
       "    <tr>\n",
       "      <th>0</th>\n",
       "      <td>6</td>\n",
       "      <td>148</td>\n",
       "      <td>72</td>\n",
       "      <td>35</td>\n",
       "      <td>0</td>\n",
       "      <td>33.6</td>\n",
       "      <td>0.627</td>\n",
       "      <td>50</td>\n",
       "      <td>1</td>\n",
       "    </tr>\n",
       "    <tr>\n",
       "      <th>1</th>\n",
       "      <td>1</td>\n",
       "      <td>85</td>\n",
       "      <td>66</td>\n",
       "      <td>29</td>\n",
       "      <td>0</td>\n",
       "      <td>26.6</td>\n",
       "      <td>0.351</td>\n",
       "      <td>31</td>\n",
       "      <td>0</td>\n",
       "    </tr>\n",
       "    <tr>\n",
       "      <th>2</th>\n",
       "      <td>8</td>\n",
       "      <td>183</td>\n",
       "      <td>64</td>\n",
       "      <td>0</td>\n",
       "      <td>0</td>\n",
       "      <td>23.3</td>\n",
       "      <td>0.672</td>\n",
       "      <td>32</td>\n",
       "      <td>1</td>\n",
       "    </tr>\n",
       "    <tr>\n",
       "      <th>3</th>\n",
       "      <td>1</td>\n",
       "      <td>89</td>\n",
       "      <td>66</td>\n",
       "      <td>23</td>\n",
       "      <td>94</td>\n",
       "      <td>28.1</td>\n",
       "      <td>0.167</td>\n",
       "      <td>21</td>\n",
       "      <td>0</td>\n",
       "    </tr>\n",
       "    <tr>\n",
       "      <th>4</th>\n",
       "      <td>0</td>\n",
       "      <td>137</td>\n",
       "      <td>40</td>\n",
       "      <td>35</td>\n",
       "      <td>168</td>\n",
       "      <td>43.1</td>\n",
       "      <td>2.288</td>\n",
       "      <td>33</td>\n",
       "      <td>1</td>\n",
       "    </tr>\n",
       "  </tbody>\n",
       "</table>\n",
       "</div>"
      ],
      "text/plain": [
       "   Pregnancies  Glucose  BloodPressure  SkinThickness  Insulin   BMI  \\\n",
       "0            6      148             72             35        0  33.6   \n",
       "1            1       85             66             29        0  26.6   \n",
       "2            8      183             64              0        0  23.3   \n",
       "3            1       89             66             23       94  28.1   \n",
       "4            0      137             40             35      168  43.1   \n",
       "\n",
       "   DiabetesPedigreeFunction  Age  Outcome  \n",
       "0                     0.627   50        1  \n",
       "1                     0.351   31        0  \n",
       "2                     0.672   32        1  \n",
       "3                     0.167   21        0  \n",
       "4                     2.288   33        1  "
      ]
     },
     "execution_count": 2,
     "metadata": {},
     "output_type": "execute_result"
    }
   ],
   "source": [
    "diabetes_df = pd.read_csv('diabetes.csv')\n",
    "diabetes_df.head()"
   ]
  },
  {
   "cell_type": "code",
   "execution_count": 3,
   "id": "925b9682",
   "metadata": {},
   "outputs": [],
   "source": [
    "from sklearn.model_selection import train_test_split\n",
    "from sklearn.preprocessing import StandardScaler\n",
    "\n",
    "X = diabetes_df.drop('Outcome', axis=1)\n",
    "y = diabetes_df['Outcome']\n",
    "\n",
    "# Split into training and test set\n",
    "X_train, X_test, y_train, y_test = train_test_split(X, y, test_size = 0.3, random_state=42, stratify=y)\n",
    "\n",
    "#Standardize\n",
    "sc= StandardScaler()\n",
    "X_train=sc.fit_transform(X_train)\n",
    "X_test=sc.fit_transform(X_test)"
   ]
  },
  {
   "cell_type": "code",
   "execution_count": 73,
   "id": "eeba68e8",
   "metadata": {},
   "outputs": [],
   "source": [
    "# https://scikit-learn.org/stable/modules/generated/sklearn.tree.DecisionTreeClassifier.html#sklearn.tree.DecisionTreeClassifier\n",
    "# decision tree classifier\n",
    "#deep and complex trees tend to overfit, so we want to generalize and have\n",
    "#reasonably simple trees as much as possible\n",
    "model = tree.DecisionTreeClassifier(max_depth = 8, min_samples_split= 25, random_state=24)"
   ]
  },
  {
   "cell_type": "code",
   "execution_count": 74,
   "id": "4d6221c9",
   "metadata": {},
   "outputs": [],
   "source": [
    "#fit the model with the training data\n",
    "model = model.fit(X_train, y_train)\n",
    "#predict the results with the test data\n",
    "y_pred = model.predict(X_test)"
   ]
  },
  {
   "cell_type": "code",
   "execution_count": 75,
   "id": "ef6ba87b",
   "metadata": {},
   "outputs": [
    {
     "name": "stdout",
     "output_type": "stream",
     "text": [
      "              precision    recall  f1-score   support\n",
      "\n",
      "           0       0.84      0.88      0.86       150\n",
      "           1       0.76      0.69      0.72        81\n",
      "\n",
      "    accuracy                           0.81       231\n",
      "   macro avg       0.80      0.79      0.79       231\n",
      "weighted avg       0.81      0.81      0.81       231\n",
      "\n"
     ]
    }
   ],
   "source": [
    "#classification report will lwt us know what happened\n",
    "print(classification_report(y_test, y_pred))"
   ]
  },
  {
   "cell_type": "code",
   "execution_count": 79,
   "id": "aa527ff9",
   "metadata": {},
   "outputs": [
    {
     "data": {
      "image/png": "[encoded data removed]",
      "text/plain": [
       "<Figure size 432x288 with 1 Axes>"
      ]
     },
     "metadata": {
      "needs_background": "light"
     },
     "output_type": "display_data"
    }
   ],
   "source": [
    "tree.plot_tree(model)\n",
    "plt.savefig(\"tree.svg\")\n",
    "plt.show()"
   ]
  },
  {
   "cell_type": "markdown",
   "id": "86e9a6b4",
   "metadata": {},
   "source": [
    "**Changing the min_samples_split to 25 improved precision and recall**"
   ]
  },
  {
   "cell_type": "markdown",
   "id": "2a54ba57",
   "metadata": {},
   "source": [
    "**2. Create a function that accepts an array of names and returns a string formatted as a list of names separated by commas EXCEPT for the last two names, which are separated by an ampersand (and sign - &)**\n",
    "\n",
    "\n",
    "Example input:\n",
    "[ {'name': 'Nichole'}, {'name': 'Tanisha'}, {'name': 'Maggie'} ] Example output:\n",
    "Nichole, Tanisha & Maggie"
   ]
  },
  {
   "cell_type": "code",
   "execution_count": 25,
   "id": "18934ef2",
   "metadata": {},
   "outputs": [],
   "source": [
    "names = ([{'name': 'Nicole'}, {'name': 'Lisa'}, {'name': 'Tanisha'}, {'name': 'Jamal'}])\n",
    "\n",
    "def namelist(names):\n",
    "    #f there is only one name in the list then return that name as a string\n",
    "    if len(names) == 1:\n",
    "        #loop through the list of names, and then split that dictionary by adding .items() at the end, only return the value\n",
    "        for n in names:\n",
    "            for key, value in n.items():\n",
    "                   return value\n",
    "    #if list has more than 1 name, follow the same process: loop through each element in the “names” list \n",
    "    #add add the names to the list_names list\n",
    "    else:\n",
    "        list_names = []\n",
    "        for n in names:\n",
    "            for key, value in n.items():\n",
    "                list_names.append(value)\n",
    "    #use .join() function to string together all the names except the last name, add the ampersand and the last name to finish off the string\n",
    "        return ', '.join(list_names[:-1]) + ' & ' + list_names[-1]"
   ]
  },
  {
   "cell_type": "code",
   "execution_count": 26,
   "id": "51c4e36f",
   "metadata": {},
   "outputs": [
    {
     "data": {
      "text/plain": [
       "'Nicole, Lisa, Tanisha & Jamal'"
      ]
     },
     "execution_count": 26,
     "metadata": {},
     "output_type": "execute_result"
    }
   ],
   "source": [
    "namelist(names)"
   ]
  },
  {
   "cell_type": "code",
   "execution_count": 28,
   "id": "1256dcf0",
   "metadata": {},
   "outputs": [],
   "source": [
    "#this will not work\n",
    "\n",
    "def namelist(name):\n",
    "    list_names = []\n",
    "    for n in names:\n",
    "        for key, value in n.items():\n",
    "            list_names.append(value)\n",
    "    #use .join() function to string together all the names except the last name, add the ampersand and the last name to finish off the string\n",
    "        return ', '.join(list_names[:-1]) + ' & ' + list_names[-1]\n"
   ]
  },
  {
   "cell_type": "code",
   "execution_count": 29,
   "id": "0fde6ce2",
   "metadata": {},
   "outputs": [
    {
     "data": {
      "text/plain": [
       "' & Nicole'"
      ]
     },
     "execution_count": 29,
     "metadata": {},
     "output_type": "execute_result"
    }
   ],
   "source": [
    "namelist(names)"
   ]
  },
  {
   "cell_type": "code",
   "execution_count": null,
   "id": "ca6c5003",
   "metadata": {},
   "outputs": [],
   "source": []
  }
 ],
 "metadata": {
  "interpreter": {
   "hash": "aee8b7b246df8f9039afb4144a1f6fd8d2ca17a180786b69acc140d282b71a49"
  },
  "kernelspec": {
   "display_name": "Python 3 (ipykernel)",
   "language": "python",
   "name": "python3"
  },
  "language_info": {
   "codemirror_mode": {
    "name": "ipython",
    "version": 3
   },
   "file_extension": ".py",
   "mimetype": "text/x-python",
   "name": "python",
   "nbconvert_exporter": "python",
   "pygments_lexer": "ipython3",
   "version": "3.9.6"
  }
 },
 "nbformat": 4,
 "nbformat_minor": 5
}

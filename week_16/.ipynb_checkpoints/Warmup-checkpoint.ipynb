{
 "cells": [
  {
   "cell_type": "code",
   "execution_count": 5,
   "id": "9fed1de5",
   "metadata": {},
   "outputs": [],
   "source": [
    "##https://www.geeksforgeeks.org/lambda-filter-python-examples/\n",
    "import numpy as np"
   ]
  },
  {
   "cell_type": "markdown",
   "id": "0908ac03",
   "metadata": {},
   "source": [
    "**What is KNN? How does it work? How is it evaluated? Be concise. These are the kind of questions that are asked in data science interviews.**\n"
   ]
  },
  {
   "cell_type": "markdown",
   "id": "c9c0adf8",
   "metadata": {},
   "source": [
    "KNN is a Supervise learning algorithm which is mainly used in the classification of data and regression. It assumes that similar data points are in close proximity (birds of a feather flock together) and classifies a new data point based on similarity to the labeled data points. The closest class to the point which is to be classified is calculated using Euclidean distance.\n",
    "K is the number of nearest data points we want to use to make the classification and NN are the data points.\n",
    "\n",
    "How to determine optimal number of neighbors to listen to: You can evaluate KNN by using the accuracy score metric\n",
    "\n",
    "\n",
    "https://medium.com/@jalalmansoori/how-to-evaluate-and-improve-knn-classifier-part-3-62d72fd17eec\n",
    "https://www.analyticssteps.com/blogs/how-does-k-nearest-neighbor-works-machine-learning-classification-problem"
   ]
  },
  {
   "cell_type": "markdown",
   "id": "9f9ad979",
   "metadata": {},
   "source": [
    "**Write a lambda that takes the following list and returns only the odd values in it. [1, 2, 3, 4, 5, 6, 7, 8, 9, 10].** \n"
   ]
  },
  {
   "cell_type": "code",
   "execution_count": 4,
   "id": "9dfa3ae4",
   "metadata": {},
   "outputs": [
    {
     "name": "stdout",
     "output_type": "stream",
     "text": [
      "[1, 3, 5, 7, 9]\n"
     ]
    }
   ],
   "source": [
    "num = [1, 2, 3, 4, 5, 6, 7, 8, 9, 10]\n",
    "\n",
    "#list constructor returns a list\n",
    "#filter the odd numbers from the num list\n",
    "odd_num = list(filter(lambda x: x%2 != 0, num))\n",
    "print(odd_num)"
   ]
  },
  {
   "cell_type": "code",
   "execution_count": null,
   "id": "05ca6065",
   "metadata": {},
   "outputs": [],
   "source": []
  }
 ],
 "metadata": {
  "kernelspec": {
   "display_name": "Python 3 (ipykernel)",
   "language": "python",
   "name": "python3"
  },
  "language_info": {
   "codemirror_mode": {
    "name": "ipython",
    "version": 3
   },
   "file_extension": ".py",
   "mimetype": "text/x-python",
   "name": "python",
   "nbconvert_exporter": "python",
   "pygments_lexer": "ipython3",
   "version": "3.9.6"
  }
 },
 "nbformat": 4,
 "nbformat_minor": 5
}

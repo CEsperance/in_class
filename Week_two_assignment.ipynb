{
 "cells": [
  {
   "cell_type": "code",
   "execution_count": 9,
   "id": "aebbdccc",
   "metadata": {},
   "outputs": [],
   "source": [
    "# Write a function that takes an integer n and performs the following conditional actions:\n",
    "# if n is odd, print weird\n",
    "# if n is even and in the inclusive range 2 to 5, print not weird\n",
    "# if n is even and in inclusive range 6 to 20 print weird\n",
    "# If n is even and greater than 20, print Not Weird\n",
    "#Constraint 1<=n<=100       "
   ]
  },
  {
   "cell_type": "code",
   "execution_count": 16,
   "id": "fe0c9d8a",
   "metadata": {
    "scrolled": true
   },
   "outputs": [],
   "source": [
    "def my_function(n):\n",
    "    if n % 2 == 0:\n",
    "        if n in range(2,6):\n",
    "            print(\"not weird\")\n",
    "        elif n in range(6,21):\n",
    "            print(\"weird\")\n",
    "        elif n>20:\n",
    "            print(\"not weird\")\n",
    "        while 1 <= n <= 100:\n",
    "            print(my_function(n))\n",
    "            "
   ]
  },
  {
   "cell_type": "code",
   "execution_count": 18,
   "id": "b9b70beb",
   "metadata": {},
   "outputs": [],
   "source": [
    "def my_function(n):\n",
    "    if n % 2 == 0:\n",
    "        if n in range(2,6):\n",
    "            print(\"not weird\")\n",
    "        elif n in range(6,21):\n",
    "            print(\"weird\")\n",
    "        elif n>20:\n",
    "            print(\"not weird\")\n",
    "        while 1 <= n <= 100:\n",
    "            print(my_function(3))"
   ]
  },
  {
   "cell_type": "code",
   "execution_count": null,
   "id": "6ca6eb8e",
   "metadata": {},
   "outputs": [],
   "source": []
  }
 ],
 "metadata": {
  "kernelspec": {
   "display_name": "Python 3 (ipykernel)",
   "language": "python",
   "name": "python3"
  },
  "language_info": {
   "codemirror_mode": {
    "name": "ipython",
    "version": 3
   },
   "file_extension": ".py",
   "mimetype": "text/x-python",
   "name": "python",
   "nbconvert_exporter": "python",
   "pygments_lexer": "ipython3",
   "version": "3.9.6"
  }
 },
 "nbformat": 4,
 "nbformat_minor": 5
}

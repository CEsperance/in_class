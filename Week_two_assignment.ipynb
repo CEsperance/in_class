{
 "cells": [
  {
   "cell_type": "code",
   "execution_count": 9,
   "id": "aebbdccc",
   "metadata": {},
   "outputs": [],
   "source": [
    "# Write a function that takes an integer n and performs the following conditional actions:\n",
    "# if n is odd, print weird\n",
    "# if n is even and in the inclusive range 2 to 5, print not weird\n",
    "# if n is even and in inclusive range 6 to 20 print weird\n",
    "# If n is even and greater than 20, print Not Weird\n",
    "#Constraint 1<=n<=100       "
   ]
  },
  {
   "cell_type": "code",
   "execution_count": 65,
   "id": "fe0c9d8a",
   "metadata": {
    "scrolled": true
   },
   "outputs": [
    {
     "name": "stdout",
     "output_type": "stream",
     "text": [
      "weird\n"
     ]
    }
   ],
   "source": [
    "def even_odd(n):\n",
    "    if n % 2 == 1:\n",
    "        print(\"weird\")\n",
    "    elif n % 2 == 0:\n",
    "        if n in range(2,6):\n",
    "            print(\"not weird\")\n",
    "    elif  n % 2 == 0:\n",
    "        if n in range(6,21):\n",
    "            print(\"weird\")\n",
    "    elif n % 2 == 0:\n",
    "        if n > 20:\n",
    "            print(\"not weird\")\n",
    "    \n",
    "    \n",
    "while 1 <= n <= 100:\n",
    "        print(n)\n",
    "        break\n",
    "even_odd(3)"
   ]
  },
  {
   "cell_type": "code",
   "execution_count": 67,
   "id": "b9b70beb",
   "metadata": {},
   "outputs": [
    {
     "name": "stdout",
     "output_type": "stream",
     "text": [
      "not weird\n"
     ]
    }
   ],
   "source": [
    "def weird(n):\n",
    "    if n % 2 == 0:\n",
    "        if n > 20:\n",
    "            print(\"not weird\")\n",
    "    elif n % 2 == 1:\n",
    "        print(\"weird\")\n",
    "    elif n % 2 == 0:\n",
    "        if n in range(2,6):\n",
    "            print(\"not weird\")\n",
    "    elif  n % 2 == 0:\n",
    "        if n in range(6,21):\n",
    "            print(\"weird\")\n",
    "            \n",
    "while 1 <= n <= 100:\n",
    "    print(n)\n",
    "    break\n",
    "            \n",
    "weird(24)"
   ]
  },
  {
   "cell_type": "code",
   "execution_count": null,
   "id": "56e09711",
   "metadata": {},
   "outputs": [],
   "source": []
  }
 ],
 "metadata": {
  "kernelspec": {
   "display_name": "Python 3 (ipykernel)",
   "language": "python",
   "name": "python3"
  },
  "language_info": {
   "codemirror_mode": {
    "name": "ipython",
    "version": 3
   },
   "file_extension": ".py",
   "mimetype": "text/x-python",
   "name": "python",
   "nbconvert_exporter": "python",
   "pygments_lexer": "ipython3",
   "version": "3.9.6"
  }
 },
 "nbformat": 4,
 "nbformat_minor": 5
}
